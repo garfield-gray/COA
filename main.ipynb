{
 "cells": [
  {
   "cell_type": "code",
   "execution_count": null,
   "id": "ec7b6e3b",
   "metadata": {},
   "outputs": [],
   "source": []
  },
  {
   "cell_type": "code",
   "execution_count": 1,
   "id": "d1927a27",
   "metadata": {},
   "outputs": [],
   "source": [
    "using IntervalArithmetic\n",
    "using LinearAlgebra\n",
    "using Distributions\n",
    "using Statistics\n",
    "using Plots"
   ]
  },
  {
   "cell_type": "code",
   "execution_count": 2,
   "id": "dd496b88",
   "metadata": {},
   "outputs": [],
   "source": [
    "#first of all make two dimentional without constrain(to show the angle things)   done (only debugging left) \n",
    "#then make n dimentional (define bitewise functions)\n",
    "#then add constrains (solve the desired problems)"
   ]
  },
  {
   "cell_type": "code",
   "execution_count": 3,
   "id": "805bcc0b",
   "metadata": {},
   "outputs": [
    {
     "data": {
      "text/plain": [
       "f1 (generic function with 1 method)"
      ]
     },
     "execution_count": 3,
     "metadata": {},
     "output_type": "execute_result"
    }
   ],
   "source": [
    "#obj_func     this function takes Nvar*Npop & spits out Fpop*1\n",
    "function f1(x)\n",
    "    return x[:,1].^2+x[:,2].^2\n",
    "end"
   ]
  },
  {
   "cell_type": "code",
   "execution_count": 71,
   "id": "e8dd9983",
   "metadata": {},
   "outputs": [
    {
     "name": "stdout",
     "output_type": "stream",
     "text": [
      "[-0.10040335093726294 0.10648820283829458]\n",
      "[0.02766786373360486 -0.08679743860444367]\n",
      "[-0.03104047859035894 -0.04506210089967848]\n",
      "[0.02440948984422253 0.08406294080809007]\n",
      "[-0.057493734686110215 0.03583474584023477]\n",
      "[0.01257556123482706 0.0017007449567431679]\n",
      "[-0.0290302607175461 0.03980648274303745]\n",
      "[0.024785843653436043 -0.06598545900879639]\n",
      "[-0.05833955567427914 -0.021216443226453996]\n",
      "[0.002977481249695102 0.12347010628160152]\n",
      "[-0.024185287360688756 -0.008248337922417637]\n",
      "[0.003151538887543423 -0.011514310539000927]\n",
      "[-0.03726572688079832 -0.0062406118576064235]\n",
      "[0.013296364610496504 -0.017983002699926975]\n",
      "[-0.052895869857606206 0.02562020879886149]\n",
      "[-0.049294140982154906 -0.015187110924305885]\n",
      "[0.023529302784914323 0.027353951676279208]\n",
      "[0.0037906758625430165 -0.016433840083725337]\n",
      "[0.015705258125540925 -0.003959477637683506]\n",
      "[0.001159577684774142 0.027289388971408923]\n",
      "[-0.006825052125471763 0.026403149169592743]\n",
      "[0.02295920360374991 -0.021348559068140767]\n",
      "[0.02084159007067094 -0.009044212826359366]\n",
      "[-0.04005627071786792 0.009311358059947317]\n",
      "[0.002632052097145461 0.003199688868926208]\n",
      "[-0.024352942613970717 0.018474734127456344]\n",
      "[0.0006162439089286507 -0.03319924335632622]\n",
      "[0.005582937974204699 0.024037864923068135]\n",
      "[-0.009256429959316824 -0.01157856649641148]\n",
      "[0.013873008801483531 -0.02179932820461644]\n",
      "[-0.007565093604173165 -0.023248362625148285]\n",
      "[-0.018402134429994887 0.01913981354755985]\n",
      "[0.026110519561947116 -0.009129756613007686]\n",
      "[-0.006913213550780818 0.009442270401346473]\n",
      "[0.017153870505227584 0.02460031766311136]\n",
      "[-0.007961162915718058 0.01297335296013057]\n",
      "[0.009770374415026761 0.006617432129810707]\n",
      "[0.011498965962420088 -0.0004228699868102648]\n",
      "[-0.012000576308220434 -0.01183065879209412]\n",
      "[0.027467437473459227 0.003530586146040047]\n",
      "[-0.001250190857221209 0.014769265157992095]\n",
      "[-0.01106408184966625 -0.012545044242023837]\n",
      "[-0.001906180100832655 0.004090169144147331]\n",
      "[-0.0032321078087277494 0.0018975472813310473]\n",
      "[0.0002627566147638933 0.007123145753359615]\n",
      "[0.0025183970201365403 0.0013400269070355244]\n",
      "[0.0010946289242001438 -0.004356228585082993]\n",
      "[0.0037229564714015844 -0.006015871372836622]\n",
      "[-0.008907719250490581 0.002457894700951181]\n",
      "[-0.0051561728906880586 0.004657266624601884]\n",
      "[-0.002384930292098887 0.002092864891287358]\n",
      "[-0.005606247662607259 -0.009837219491944629]\n",
      "[0.003806730790278212 0.00216933045191126]\n",
      "[0.0017010587077673296 0.0003259358240105051]\n",
      "[-0.0035799367886343164 0.01055848700282003]\n",
      "[-0.0015165911613401247 0.006354187330346043]\n",
      "[-0.0028292324564325247 -0.004119905781825327]\n",
      "[-0.012419117870483165 -0.0025149372986472077]\n",
      "[-0.004864913655981429 -0.002005722991692257]\n",
      "[0.0024561553893448604 -0.003250912705419445]\n",
      "[0.0005065108472734384 -0.01110625790431945]\n",
      "[0.004495565461946202 0.0063902971659085955]\n",
      "[-0.0030613056838218944 -0.0024115107555064425]\n",
      "[-0.002269663257729598 0.0016903731343170716]\n",
      "[0.0035661862010351666 0.002300375560172159]\n",
      "[0.001089732707575666 0.005650480343889102]\n",
      "[0.0033680282601541364 -0.004126505684692423]\n",
      "[0.0013213717442826893 0.0006342413170435763]\n",
      "[-0.0037753483747559186 -0.0017421612882295972]\n",
      "[-0.0037500009681504364 -0.0015355908533983753]\n",
      "[-0.003375895501212211 -5.187652348441832e-5]\n",
      "[-0.002228205861315326 -0.0009645816309057417]\n",
      "[-0.0017828514197624386 -0.0017160910163361558]\n",
      "[0.0027880403288394456 0.002248918234176029]\n",
      "[0.0007901993734343668 -0.0024855806762852477]\n",
      "[0.0036562673914421954 -0.0017370678998434828]\n",
      "[-0.002097555481244909 0.00045020907336046443]\n",
      "[0.0003412528444675222 -0.004139241049698971]\n",
      "[-0.0005120576315125018 -0.0011899198747062408]\n",
      "[0.0002380521832305721 0.0021236818396743696]\n",
      "[-0.0011054505647527676 0.00022796397482534466]\n",
      "[0.0020728231804974188 -0.0017854475666275963]\n",
      "[0.0009628802585182651 0.0007676568663845876]\n",
      "[-0.00033501300617328703 0.001975110155509339]\n",
      "[0.00020291630362111526 0.000946200547277207]\n",
      "[-4.129474488353364e-5 -0.0001699150968754047]\n",
      "[0.0016241480484070966 -0.00016178464090287926]\n",
      "[0.00014767073148301037 0.0007608483699044397]\n",
      "[0.0004056432067791821 -0.0021010042699940476]\n",
      "[0.0010939487446747559 -0.0016334041337591589]\n",
      "[-0.000561996320964795 0.0006472481447064335]\n",
      "[0.000577586367035168 0.00031126845912892234]\n",
      "[0.00118684408930036 -0.0007093976117301245]\n",
      "[5.897394300706169e-7 0.0011982122071744535]\n",
      "[0.0008693599173997487 -0.00047471769387427026]\n",
      "[-0.00017455583466778005 -0.0007824543709525076]\n",
      "[-0.00034577200468631915 -0.0006267744986325104]\n",
      "[-0.0006723403919067263 0.0005600731679944525]\n",
      "[0.0005104475062521048 1.2151330773590551e-5]\n",
      "[-0.0003237575362295981 0.00012095035363229065]\n"
     ]
    }
   ],
   "source": [
    "#in the name of God\n",
    "#Defining COA parameters\n",
    "Nvar = 2\n",
    "Npop = 10\n",
    "obj = f1\n",
    "Cons = 1.05                                    #Consentration of egg laying\n",
    "MAXGEN = 100                                   #maximum generations\n",
    "a11 = -5; a12 = 5; a21 = -5; a22 = 5;          #limits\n",
    "A = IntervalBox(a11..a12, a21..a22)            #the region\n",
    "###############################################################################################\n",
    "Current = rand(Uniform(0, 1), Npop, Nvar)      #Genesis\n",
    "Current *= Diagonal([(a12-a11);(a22-a21)])     #stretching it\n",
    "Current += repeat([a11 a21], Npop, 1)          #putting it in place\n",
    "\n",
    "flag = 0\n",
    "\n",
    "for i in 1:MAXGEN                                                    #for each generation\n",
    "    Next = rand(1, Nvar); Next = Next[1:end .!=1,:];                 #preparing the next Gen & makin it empty\n",
    "    eggnum = abs.(ceil.(Int, rand(Normal(11, 4), Npop))).+1              #eggs each cuckoo lays(it could make 0|-)\n",
    "    for j in 1:Npop                                                      #for each bird   \n",
    "        offsprings = repeat(Current[j,:]',eggnum[j],1)                   #make the potential eggs\n",
    "        movements = rand(Uniform(-1, 1), eggnum[j], Nvar)                #make movements\n",
    "        movements *= (Diagonal([(a12-a11);(a22-a21)])./(Npop*Cons^i))    #stretch\n",
    "        offsprings += movements                                          #put them inplace\n",
    "        profit = obj(offsprings)                                         #evaluation\n",
    "        m = median(profit, dims=1)                                       #find meadian\n",
    "        index = findall(profit.<m)                                       #find vulnerables\n",
    "        offsprings = offsprings[index,:]                                 #dismiss them\n",
    "        Next = [Next; offsprings]                                        #push them into the Next Gen\n",
    "    end\n",
    "    N, o = size(Next)                                                #finding size of new population\n",
    "    value = obj(Next)                                                #overall evaluation\n",
    "    bestind = argmin(value)                                          #finding the index of the best\n",
    "    best = Next[bestind,:]'\n",
    "    migdes = Next - repeat(best, N , 1)                              #destination of migration\n",
    "    v = Diagonal(rand(N))*migdes                                     #not all of them make it to the best\n",
    "    Next = Next + v                                                  #migration\n",
    "    q = quantile(value, (1:Npop)./length(value))                     #best Npop's\n",
    "    bestNpopind = findall(value .<= q[Npop])                         #their indices\n",
    "    Next = Next[bestNpopind,:]                                       #dismiss to the Npop\n",
    "    #print(round.(best, digits = 3))\n",
    "    print(best)\n",
    "    print('\\n')\n",
    "    Current = Next                                                   #regenerating\n",
    "end\n",
    "#report the best"
   ]
  },
  {
   "cell_type": "code",
   "execution_count": null,
   "id": "1985bac8",
   "metadata": {},
   "outputs": [],
   "source": []
  },
  {
   "cell_type": "code",
   "execution_count": null,
   "id": "926fd8c5",
   "metadata": {},
   "outputs": [],
   "source": []
  },
  {
   "cell_type": "code",
   "execution_count": null,
   "id": "9a4e72ea",
   "metadata": {},
   "outputs": [],
   "source": []
  },
  {
   "cell_type": "code",
   "execution_count": 80,
   "id": "39f4aa44",
   "metadata": {},
   "outputs": [
    {
     "name": "stdout",
     "output_type": "stream",
     "text": [
      "[0.067316 0.931655]\n",
      "[-0.359999 0.274669]\n",
      "[0.050476 0.130343]\n",
      "[0.009642 -0.029145]\n",
      "[0.000854 0.006044]\n",
      "[0.003343 -0.012195]\n",
      "[-0.022661 -0.003824]\n",
      "[-0.002381 0.000605]\n",
      "[0.006241 -0.004936]\n",
      "[-0.003637 0.004995]\n",
      "[-0.002586 0.002178]\n",
      "[-0.009375 -0.001023]\n",
      "[-0.002234 4.5e-5]\n",
      "[0.000193 0.001725]\n",
      "[0.001452 4.5e-5]\n",
      "[0.000961 -0.001659]\n",
      "[-0.001511 -0.0001]\n",
      "[-0.000959 0.0001]\n",
      "[0.000101 0.000119]\n",
      "[0.000424 4.9e-5]\n",
      "[0.000503 0.000469]\n",
      "[0.000196 4.5e-5]\n",
      "[-0.000203 0.000143]\n",
      "[-0.000393 -0.000126]\n",
      "[5.2e-5 6.4e-5]\n",
      "[1.0e-6 -4.2e-5]\n",
      "[2.1e-5 9.6e-5]\n",
      "[1.0e-6 -1.7e-5]\n",
      "[1.4e-5 -3.3e-5]\n",
      "[-1.7e-5 3.0e-6]\n",
      "[6.0e-6 -5.1e-5]\n",
      "[-1.0e-5 2.6e-5]\n",
      "[1.5e-5 9.0e-6]\n",
      "[1.0e-5 -1.1e-5]\n",
      "[1.0e-5 9.0e-6]\n",
      "[-1.0e-6 0.0]\n",
      "[1.0e-6 2.0e-6]\n",
      "[-4.0e-6 -4.0e-6]\n",
      "[-2.0e-6 0.0]\n",
      "[-2.0e-6 -1.0e-6]\n",
      "[1.0e-6 1.0e-6]\n",
      "[-1.0e-6 2.0e-6]\n",
      "[2.0e-6 -1.0e-6]\n",
      "[0.0 1.0e-6]\n",
      "[-1.0e-6 0.0]\n",
      "[0.0 0.0]\n",
      "[-0.0 -1.0e-6]\n",
      "[0.0 -0.0]\n",
      "[0.0 0.0]\n",
      "[-0.0 -0.0]\n"
     ]
    }
   ],
   "source": [
    "#Defining COA parameters\n",
    "Nvar = 2\n",
    "Npop = 10\n",
    "obj = f1\n",
    "Cons = 1.3                                     #Consentration of egg laying\n",
    "MAXGEN = 50                                    #maximum generations\n",
    "a11 = -5; a12 = 5; a21 = -5; a22 = 5;          #limits\n",
    "A = IntervalBox(a11..a12, a21..a22)            #the region\n",
    "###############################################################################################\n",
    "Current = rand(Uniform(0, 1), Npop, Nvar)      #Genesis\n",
    "Current *= Diagonal([(a12-a11);(a22-a21)])     #stretching it\n",
    "Current += repeat([a11 a21], Npop, 1)          #putting it in place\n",
    "\n",
    "flag = 0\n",
    "\n",
    "for i in 1:MAXGEN                                                    #for each generation\n",
    "    Next = rand(1, Nvar); Next = Next[1:end .!=1,:];                 #preparing the next Gen & makin it empty\n",
    "    eggnum = abs.(ceil.(Int, rand(Normal(11, 4), Npop))).+1              #eggs each cuckoo lays(it could make 0|-)\n",
    "    for j in 1:Npop                                                      #for each bird   \n",
    "        offsprings = repeat(Current[j,:]',eggnum[j],1)                   #make the potential eggs\n",
    "        movements = rand(Uniform(-1, 1), eggnum[j], Nvar)                #make movements\n",
    "        movements *= (Diagonal([(a12-a11);(a22-a21)])./(Npop*Cons^i))    #stretch\n",
    "        offsprings += movements                                          #put them inplace\n",
    "        profit = obj(offsprings)                                         #evaluation\n",
    "        m = median(profit, dims=1)                                       #find meadian\n",
    "        index = findall(profit.<m)                                       #find vulnerables\n",
    "        offsprings = offsprings[index,:]                                 #dismiss them\n",
    "        Next = [Next; offsprings]                                        #push them into the Next Gen\n",
    "    end\n",
    "    N, o = size(Next)                                                #finding size of new population\n",
    "    value = obj(Next)                                                #overall evaluation\n",
    "    bestind = argmin(value)                                          #finding the index of the best\n",
    "    best = Next[bestind,:]'\n",
    "    migdes = Next - repeat(best, N , 1)                              #destination of migration\n",
    "    v = Diagonal(rand(N))*migdes                                     #not all of them make it to the best\n",
    "    Next = Next + v                                                  #migration\n",
    "    q = quantile(value, (1:Npop)./length(value))                     #best Npop's\n",
    "    bestNpopind = findall(value .<= q[Npop])                         #their indices\n",
    "    Next = Next[bestNpopind,:]                                       #dismiss to the Npop\n",
    "    print(round.(best, digits = 6))\n",
    "    #print(best)\n",
    "    print('\\n')\n",
    "    Current = Next                                                   #regenerating\n",
    "end\n",
    "#report the best"
   ]
  },
  {
   "cell_type": "code",
   "execution_count": null,
   "id": "4301e550",
   "metadata": {},
   "outputs": [],
   "source": []
  },
  {
   "cell_type": "code",
   "execution_count": null,
   "id": "848970db",
   "metadata": {},
   "outputs": [],
   "source": []
  },
  {
   "cell_type": "code",
   "execution_count": null,
   "id": "ac098855",
   "metadata": {},
   "outputs": [],
   "source": []
  },
  {
   "cell_type": "code",
   "execution_count": 104,
   "id": "6d95e7bc",
   "metadata": {},
   "outputs": [
    {
     "data": {
      "text/plain": [
       "Rosenbrock (generic function with 1 method)"
      ]
     },
     "execution_count": 104,
     "metadata": {},
     "output_type": "execute_result"
    }
   ],
   "source": [
    "#obj_func     this function takes Nvar*Npop & spits out Fpop*1\n",
    "function Rosenbrock(x)\n",
    "    Npop, Nvar = size(x)\n",
    "    return 100*(x[:,2]-x[:,1].^2).^2 + (ones(Npop)-x[:,1]).^2\n",
    "end"
   ]
  },
  {
   "cell_type": "code",
   "execution_count": 105,
   "id": "1acc7b8f",
   "metadata": {},
   "outputs": [
    {
     "data": {
      "text/plain": [
       "2-element Vector{Float64}:\n",
       "   0.0\n",
       " 401.0"
      ]
     },
     "execution_count": 105,
     "metadata": {},
     "output_type": "execute_result"
    }
   ],
   "source": [
    "R = [1 1;2 2]\n",
    "Rosenbrock(R)"
   ]
  },
  {
   "cell_type": "code",
   "execution_count": null,
   "id": "824288cc",
   "metadata": {},
   "outputs": [],
   "source": []
  },
  {
   "cell_type": "code",
   "execution_count": 110,
   "id": "82eef36f",
   "metadata": {},
   "outputs": [
    {
     "name": "stdout",
     "output_type": "stream",
     "text": [
      "[0.5451196940746668 -0.6792383017436466]\n",
      "[0.3479301727670233 0.012822333455977497]\n",
      "[0.6987296889162407 0.46996353612368447]\n",
      "[0.5275085043341871 0.263384771580936]\n",
      "[0.6610187048359001 0.44042918122730607]\n",
      "[0.7293044284407485 0.5789686219812351]\n",
      "[0.9939483507691153 1.0200361777223945]\n",
      "[0.4913933872005129 0.2127549377133529]\n",
      "[0.9750893643582053 0.9613445747660967]\n",
      "[0.8200694730578045 0.6523003953596286]\n",
      "[0.9763868975336285 0.960775048409694]\n",
      "[1.1065179996487822 1.2345268392990785]\n",
      "[0.736259263870049 0.5412771844643215]\n",
      "[0.8888075505531196 0.7895573228716365]\n",
      "[0.8337687099757773 0.6968218997109155]\n",
      "[0.7674241001719649 0.5944334372167918]\n",
      "[0.9297894845152902 0.873624856948192]\n",
      "[0.9541066864849228 0.923652784560919]\n",
      "[0.9168874800780612 0.8512388260847096]\n",
      "[1.0084532942080495 1.0163755763941813]\n",
      "[1.01347903999052 1.0398077760941942]\n",
      "[0.9494675815009838 0.9052918649219132]\n",
      "[0.8570639048658608 0.7421714802936017]\n",
      "[0.8837657244984697 0.7737380867612806]\n",
      "[0.8519806294290133 0.7280830993254189]\n",
      "[0.8874280431067434 0.7983508884876789]\n",
      "[0.9518756049481016 0.9089695368972529]\n",
      "[1.0237105258491428 1.047685516606601]\n",
      "[1.0479170691864916 1.0925227388230367]\n",
      "[1.026980528020514 1.0570773288129764]\n",
      "[1.0265311323060191 1.0561657747798727]\n",
      "[0.992663348001822 0.9866734566800158]\n",
      "[0.9992315791091627 0.9969039629117636]\n",
      "[1.0110013704149778 1.0264397342082814]\n",
      "[0.9719523304786978 0.9420530756281874]\n",
      "[0.9655357070214745 0.932965195547464]\n",
      "[1.0278052515667842 1.0561673130038352]\n",
      "[1.014772284089638 1.0280114337029602]\n",
      "[1.0245647695864268 1.0512751218291072]\n",
      "[1.0027589466196298 1.0057178653212742]\n",
      "[1.0086708864819727 1.0149361919999629]\n",
      "[1.0024941244893961 1.0046447904769245]\n",
      "[0.9941508024483326 0.9889639228727719]\n",
      "[1.0030009225414855 1.0060849007221042]\n",
      "[1.0040339787150212 1.0069661354456962]\n",
      "[1.006041822333932 1.0116412654373692]\n",
      "[1.0051007290493017 1.0104311998240283]\n",
      "[1.0023980570870792 1.004541983804077]\n",
      "[1.0039479315845814 1.007251777766779]\n",
      "[1.0018122973397758 1.0031644628810055]\n",
      "[1.002695536068003 1.0061677657699037]\n",
      "[1.0011588889778482 1.002435451436566]\n",
      "[1.000767065660206 1.0016080227030808]\n",
      "[1.0006810445430196 1.0015863479951925]\n",
      "[1.0029023518997815 1.0056088491764965]\n",
      "[1.0025715206934371 1.0052739396837795]\n",
      "[0.9993078166641934 0.998865179998399]\n",
      "[1.0032876458325934 1.007016739646763]\n",
      "[1.0036628729211927 1.0073760963737133]\n",
      "[0.9992779258085364 0.9984567245342907]\n",
      "[0.9995623834581157 0.9991749542287292]\n",
      "[0.9992941551856886 0.9982838555924313]\n",
      "[0.9995807051363125 0.9992597416816887]\n",
      "[1.0003189472867053 1.000516337944675]\n",
      "[0.9991735263243255 0.9983548796068519]\n",
      "[0.9988122592751164 0.9975647665862195]\n",
      "[0.9990548834697606 0.9981173434216599]\n",
      "[1.000246960657825 1.0006000130280317]\n",
      "[0.9999642130031191 1.0000350848829933]\n",
      "[1.0000202408662615 0.9999110957302492]\n",
      "[0.9997593807552869 0.9994968893626561]\n",
      "[0.9997737579226594 0.9995340068870863]\n",
      "[0.9997704424978697 0.9995546835007676]\n",
      "[0.9995736707423751 0.9991605315456784]\n",
      "[0.999851969256862 0.9997476053821464]\n",
      "[1.000236228396771 1.0004530817520771]\n",
      "[1.000156519077589 1.00029267488494]\n",
      "[1.0001751308448341 1.0003351984850948]\n",
      "[1.0004034768393357 1.0008496730142722]\n",
      "[0.9998353284996483 0.999663185380752]\n",
      "[0.999849845459992 0.999704390977829]\n",
      "[1.0001141760200487 1.000224656527036]\n",
      "[0.9999604185484695 0.9999256453242753]\n",
      "[1.0000645929652046 1.0001234830137358]\n",
      "[0.999816926898979 0.9996368369917631]\n",
      "[1.0003324802913047 1.0006531144944968]\n",
      "[1.0004224993411672 1.0008615492911268]\n",
      "[1.0004561818998179 1.0009153859084285]\n",
      "[1.0003845067284178 1.0007671525641637]\n",
      "[1.0004400273560239 1.0008937267589886]\n",
      "[1.0004679937678158 1.0009271121665855]\n",
      "[1.0002421509455575 1.0005161367622877]\n",
      "[1.0003256525201032 1.0006637419637612]\n",
      "[1.0002898083544038 1.0005997277946936]\n",
      "[1.000239719602872 1.0004968712911673]\n",
      "[1.0002854464065591 1.0005740835763977]\n",
      "[1.0002399534379198 1.0004798770635122]\n",
      "[1.0002109453158254 1.0004131866578008]\n",
      "[1.0001660899663014 1.0003222792339521]\n",
      "[1.0001852389773627 1.0003548879866586]\n"
     ]
    }
   ],
   "source": [
    "#Defining COA parameters\n",
    "Nvar = 2\n",
    "Npop = 10\n",
    "obj = Rosenbrock\n",
    "Cons = 1.1                                     #Consentration of egg laying\n",
    "MAXGEN = 100                                    #maximum generations\n",
    "a11 = -5; a12 = 5; a21 = -5; a22 = 5;          #limits\n",
    "A = IntervalBox(a11..a12, a21..a22)            #the region\n",
    "###############################################################################################\n",
    "Current = rand(Uniform(0, 1), Npop, Nvar)      #Genesis\n",
    "Current *= Diagonal([(a12-a11);(a22-a21)])     #stretching it\n",
    "Current += repeat([a11 a21], Npop, 1)          #putting it in place\n",
    "\n",
    "for i in 1:MAXGEN                                                    #for each generation\n",
    "    Next = rand(1, Nvar); Next = Next[1:end .!=1,:];                 #preparing the next Gen & makin it empty\n",
    "    eggnum = abs.(ceil.(Int, rand(Normal(11, 4), Npop))).+1              #eggs each cuckoo lays(it could make 0|-)\n",
    "    for j in 1:Npop                                                      #for each bird   \n",
    "        offsprings = repeat(Current[j,:]',eggnum[j],1)                   #make the potential eggs\n",
    "        movements = rand(Uniform(-1, 1), eggnum[j], Nvar)                #make movements\n",
    "        movements *= (Diagonal([(a12-a11);(a22-a21)])./(Npop*Cons^i))    #stretch\n",
    "        offsprings += movements                                          #put them inplace\n",
    "        profit = obj(offsprings)                                         #evaluation\n",
    "        m = median(profit, dims=1)                                       #find meadian\n",
    "        index = findall(profit.<m)                                       #find vulnerables\n",
    "        offsprings = offsprings[index,:]                                 #dismiss them\n",
    "        Next = [Next; offsprings]                                        #push them into the Next Gen\n",
    "    end\n",
    "    N, o = size(Next)                                                #finding size of new population\n",
    "    value = obj(Next)                                                #overall evaluation\n",
    "    bestind = argmin(value)                                          #finding the index of the best\n",
    "    best = Next[bestind,:]'\n",
    "    migdes = Next - repeat(best, N , 1)                              #destination of migration\n",
    "    v = Diagonal(rand(N))*migdes                                     #not all of them make it to the best\n",
    "    Next = Next + v                                                  #migration\n",
    "    q = quantile(value, (1:Npop)./length(value))                     #best Npop's\n",
    "    bestNpopind = findall(value .<= q[Npop])                         #their indices\n",
    "    Next = Next[bestNpopind,:]                                       #dismiss to the Npop\n",
    "    #print(round.(best, digits = 6))\n",
    "    print(best)\n",
    "    print('\\n')\n",
    "    Current = Next                                                   #regenerating\n",
    "end\n",
    "#report the best"
   ]
  },
  {
   "cell_type": "code",
   "execution_count": null,
   "id": "6b65bfbc",
   "metadata": {},
   "outputs": [],
   "source": []
  },
  {
   "cell_type": "code",
   "execution_count": null,
   "id": "2080822c",
   "metadata": {},
   "outputs": [],
   "source": []
  },
  {
   "cell_type": "code",
   "execution_count": null,
   "id": "0bec07c5",
   "metadata": {},
   "outputs": [],
   "source": []
  },
  {
   "cell_type": "code",
   "execution_count": null,
   "id": "d26d7197",
   "metadata": {},
   "outputs": [],
   "source": []
  },
  {
   "cell_type": "code",
   "execution_count": null,
   "id": "512d706f",
   "metadata": {},
   "outputs": [],
   "source": []
  },
  {
   "cell_type": "code",
   "execution_count": 13,
   "id": "324ea39b",
   "metadata": {},
   "outputs": [
    {
     "data": {
      "text/plain": [
       "true"
      ]
     },
     "execution_count": 13,
     "metadata": {},
     "output_type": "execute_result"
    }
   ],
   "source": [
    "\n",
    "in([0;1], A)"
   ]
  },
  {
   "cell_type": "code",
   "execution_count": null,
   "id": "a64a6c44",
   "metadata": {},
   "outputs": [],
   "source": []
  },
  {
   "cell_type": "code",
   "execution_count": 14,
   "id": "4f7239a6",
   "metadata": {
    "scrolled": true
   },
   "outputs": [
    {
     "data": {
      "text/plain": [
       "10.0"
      ]
     },
     "execution_count": 14,
     "metadata": {},
     "output_type": "execute_result"
    }
   ],
   "source": [
    "diam(A)"
   ]
  },
  {
   "cell_type": "code",
   "execution_count": 42,
   "id": "29157dbd",
   "metadata": {},
   "outputs": [
    {
     "data": {
      "text/plain": [
       "3"
      ]
     },
     "execution_count": 42,
     "metadata": {},
     "output_type": "execute_result"
    }
   ],
   "source": [
    "abs(-3)"
   ]
  },
  {
   "cell_type": "code",
   "execution_count": null,
   "id": "929a7e9d",
   "metadata": {},
   "outputs": [],
   "source": []
  },
  {
   "cell_type": "code",
   "execution_count": 64,
   "id": "bdcdd05d",
   "metadata": {},
   "outputs": [
    {
     "name": "stdout",
     "output_type": "stream",
     "text": [
      "2×4 Matrix{Int64}:\n",
      " 1  2  3  4\n",
      " 2  3  4  5\n"
     ]
    },
    {
     "data": {
      "text/plain": [
       "0"
      ]
     },
     "execution_count": 64,
     "metadata": {},
     "output_type": "execute_result"
    }
   ],
   "source": [
    "A = [1 2 3 4; 2 3 4 5]\n",
    "show(stdout, \"text/plain\", A)\n",
    "print('\\n')\n",
    "B = 0"
   ]
  },
  {
   "cell_type": "code",
   "execution_count": null,
   "id": "297e013a",
   "metadata": {},
   "outputs": [],
   "source": []
  },
  {
   "cell_type": "code",
   "execution_count": null,
   "id": "82e0e30f",
   "metadata": {},
   "outputs": [],
   "source": []
  },
  {
   "cell_type": "code",
   "execution_count": null,
   "id": "21e77322",
   "metadata": {},
   "outputs": [],
   "source": []
  }
 ],
 "metadata": {
  "kernelspec": {
   "display_name": "Julia 1.6.2",
   "language": "julia",
   "name": "julia-1.6"
  },
  "language_info": {
   "file_extension": ".jl",
   "mimetype": "application/julia",
   "name": "julia",
   "version": "1.6.2"
  }
 },
 "nbformat": 4,
 "nbformat_minor": 5
}
