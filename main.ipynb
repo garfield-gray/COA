{
 "cells": [
  {
   "cell_type": "code",
   "execution_count": null,
   "id": "ec7b6e3b",
   "metadata": {},
   "outputs": [],
   "source": []
  },
  {
   "cell_type": "code",
   "execution_count": 1,
   "id": "d1927a27",
   "metadata": {},
   "outputs": [],
   "source": [
    "using IntervalArithmetic\n",
    "using LinearAlgebra\n",
    "using Distributions\n",
    "using Statistics\n",
    "using Plots"
   ]
  },
  {
   "cell_type": "code",
   "execution_count": 2,
   "id": "dd496b88",
   "metadata": {},
   "outputs": [],
   "source": [
    "#first of all make two dimentional without constrain(to show the angle things)   done (only debugging left) \n",
    "#then make n dimentional (define bitewise functions)\n",
    "#then add constrains (solve the desired problems)"
   ]
  },
  {
   "cell_type": "code",
   "execution_count": 4,
   "id": "805bcc0b",
   "metadata": {},
   "outputs": [
    {
     "data": {
      "text/plain": [
       "f1 (generic function with 1 method)"
      ]
     },
     "execution_count": 4,
     "metadata": {},
     "output_type": "execute_result"
    }
   ],
   "source": [
    "#obj_func     this function takes Nvar*Npop & spits out Fpop*1\n",
    "function f1(x)\n",
    "    return x[:,1].^2+x[:,2].^2\n",
    "end"
   ]
  },
  {
   "cell_type": "code",
   "execution_count": 15,
   "id": "e8dd9983",
   "metadata": {},
   "outputs": [
    {
     "name": "stdout",
     "output_type": "stream",
     "text": [
      "[0.15552903867093298 -0.0687733081140441]\n",
      "[0.04057700770418657 0.05253898387264301]\n",
      "[-0.03955133970604899 0.026404715830251335]\n",
      "[0.022348208316649285 0.0074850230276418545]\n",
      "[0.0017324223436364708 0.006726430735299993]\n",
      "[0.007961549049155475 -0.0007508878846288003]\n",
      "[0.008444820547839106 0.006076390995305832]\n",
      "[-0.002329403367616424 -0.0040713684855817715]\n",
      "[-0.0014165252706811928 0.004583114698981623]\n",
      "[-0.0011301486400278303 0.0022951271934124624]\n",
      "[6.519068099742828e-5 -0.0014534732866801165]\n",
      "[-0.0003643520502842226 0.0005218897405978098]\n",
      "[-1.4133489506636988e-5 -0.0001964618053231131]\n",
      "[0.00010092332218216479 -0.000135839633899172]\n",
      "[-6.730028443192092e-5 9.295838333885228e-5]\n",
      "[-9.181150180817701e-5 -5.5694399645204095e-6]\n",
      "[4.943734971521483e-5 0.00010695574547367579]\n",
      "[-0.00012262353753526693 -4.0586585478259875e-5]\n",
      "[2.490867246016489e-5 -1.3733574373844008e-5]\n",
      "[2.854478393294486e-5 6.900792133938052e-6]\n",
      "[5.744955145007077e-6 1.5873816346449744e-5]\n",
      "[-8.28137165332158e-6 2.833607681711942e-6]\n",
      "[9.725214900859538e-7 1.2130833523716608e-5]\n",
      "[5.388855988572714e-6 1.5382927375602847e-6]\n",
      "[-4.2803722123723634e-6 5.614802834808854e-7]\n",
      "[-2.6072182167322543e-6 -6.914481630388392e-8]\n",
      "[2.435605476782699e-7 -1.7384656684677807e-7]\n",
      "[-3.0633734301844284e-7 1.561266955858597e-7]\n",
      "[-3.24405754723113e-8 -2.60546390593844e-7]\n",
      "[8.146086742433438e-7 2.698643927363297e-7]\n",
      "[1.2494214373740142e-7 -1.7251738342834382e-7]\n",
      "[-7.764367703988495e-8 -1.3567964525396651e-7]\n",
      "[-1.0059415079220916e-7 -5.238100047783693e-8]\n",
      "[-1.536577309213371e-8 -1.2565583006955246e-7]\n",
      "[-2.0470297240294925e-8 3.262434324377361e-8]\n",
      "[3.167489407433713e-8 -3.963687343582589e-8]\n",
      "[2.7666714897256247e-9 4.767242163682033e-9]\n",
      "[9.197482980018881e-9 -1.1228987999167297e-8]\n",
      "[6.643055299855541e-9 -2.3854248149863835e-8]\n",
      "[-6.212151637233972e-10 -2.495741547081724e-9]\n",
      "[-2.827163400257084e-9 8.835946767737491e-10]\n",
      "[2.8170514061177992e-9 -6.110289699294166e-9]\n",
      "[3.765155713303765e-9 1.2989708381111055e-10]\n",
      "[-5.405478393987345e-10 7.898940965897131e-10]\n",
      "[-5.78346150869068e-10 8.499974471333425e-10]\n",
      "[-3.899641695810735e-10 -1.0623999737173452e-9]\n",
      "[-2.2007872692877936e-10 -2.772738518197963e-11]\n",
      "[1.4802021924974493e-10 2.039249516787928e-10]\n",
      "[2.8257838111207577e-11 1.3508865607389881e-11]\n",
      "[-1.1197461693924851e-10 5.709461131282912e-11]\n"
     ]
    }
   ],
   "source": [
    "#in the name of God\n",
    "#Defining COA parameters\n",
    "Nvar = 2\n",
    "Npop = 10\n",
    "obj = f1\n",
    "Cons = 1.5                                    #Consentration of egg laying\n",
    "MAXGEN = 50                                   #maximum generations\n",
    "a11 = -5; a12 = 5; a21 = -5; a22 = 5;          #limits\n",
    "A = IntervalBox(a11..a12, a21..a22)            #the region\n",
    "###############################################################################################\n",
    "Current = rand(Uniform(0, 1), Npop, Nvar)      #Genesis\n",
    "Current *= Diagonal([(a12-a11);(a22-a21)])     #stretching it\n",
    "Current += repeat([a11 a21], Npop, 1)          #putting it in place\n",
    "\n",
    "flag = 0\n",
    "\n",
    "for i in 1:MAXGEN                                                    #for each generation\n",
    "    Next = rand(1, Nvar); Next = Next[1:end .!=1,:];                 #preparing the next Gen & makin it empty\n",
    "    eggnum = abs.(ceil.(Int, rand(Normal(11, 4), Npop))).+1              #eggs each cuckoo lays(it could make 0|-)\n",
    "    for j in 1:Npop                                                      #for each bird   \n",
    "        offsprings = repeat(Current[j,:]',eggnum[j],1)                   #make the potential eggs\n",
    "        movements = rand(Uniform(-1, 1), eggnum[j], Nvar)                #make movements\n",
    "        movements *= (Diagonal([(a12-a11);(a22-a21)])./(Npop*Cons^i))    #stretch\n",
    "        offsprings += movements                                          #put them inplace\n",
    "        profit = obj(offsprings)                                         #evaluation\n",
    "        m = median(profit, dims=1)                                       #find meadian\n",
    "        index = findall(profit.<m)                                       #find vulnerables\n",
    "        offsprings = offsprings[index,:]                                 #dismiss them\n",
    "        Next = [Next; offsprings]                                        #push them into the Next Gen\n",
    "    end\n",
    "    N, o = size(Next)                                                #finding size of new population\n",
    "    value = obj(Next)                                                #overall evaluation\n",
    "    bestind = argmin(value)                                          #finding the index of the best\n",
    "    best = Next[bestind,:]'\n",
    "    migdes = Next - repeat(best, N , 1)                              #destination of migration\n",
    "    v = Diagonal(rand(N))*migdes                                     #not all of them make it to the best\n",
    "    Next = Next + v                                                  #migration\n",
    "    q = quantile(value, (1:Npop)./length(value))                     #best Npop's\n",
    "    bestNpopind = findall(value .<= q[Npop])                         #their indices\n",
    "    Next = Next[bestNpopind,:]                                       #dismiss to the Npop\n",
    "    #print(round.(best, digits = 3))\n",
    "    print(best)\n",
    "    print('\\n')\n",
    "    Current = Next                                                   #regenerating\n",
    "end\n",
    "#report the best"
   ]
  },
  {
   "cell_type": "code",
   "execution_count": null,
   "id": "1985bac8",
   "metadata": {},
   "outputs": [],
   "source": []
  },
  {
   "cell_type": "code",
   "execution_count": null,
   "id": "926fd8c5",
   "metadata": {},
   "outputs": [],
   "source": []
  },
  {
   "cell_type": "code",
   "execution_count": null,
   "id": "9a4e72ea",
   "metadata": {},
   "outputs": [],
   "source": []
  },
  {
   "cell_type": "code",
   "execution_count": 7,
   "id": "39f4aa44",
   "metadata": {},
   "outputs": [
    {
     "name": "stdout",
     "output_type": "stream",
     "text": [
      "[-0.20183198413167658 -0.822971921319258]\n",
      "[-0.08706954367923166 -0.3552562263931248]\n",
      "[-0.03160283308904399 0.02295831817973848]\n",
      "[0.012759732407784441 0.005712643801259021]\n",
      "[0.00023185646343393262 -0.036739984256968325]\n",
      "[-0.01456999203371917 -0.011891647941205036]\n",
      "[0.01708490240545349 -0.010061716295675727]\n",
      "[0.006156095465053094 0.028299452641294326]\n",
      "[0.007235549818620471 -0.006461833548350622]\n",
      "[0.006472528483082772 0.0029446174811325818]\n",
      "[0.010642949288820109 0.0039060685976438116]\n",
      "[0.005730004182562951 0.0028534312186997424]\n",
      "[3.742844929871189e-5 0.000976682118817047]\n",
      "[-0.0006089029846217421 -0.00025646503387742343]\n",
      "[-0.000578411691915919 0.00039906155240503657]\n",
      "[0.0017763035512689263 0.0012357423938852566]\n",
      "[0.0008751082345183495 -0.0008163287150003903]\n",
      "[0.00018350462949926144 0.0009157755168110017]\n",
      "[-3.938280410777269e-6 0.00012257156884708633]\n",
      "[0.0004111943662107305 -2.694784580982711e-5]\n",
      "[0.00030857966570387854 -0.0004931347433970482]\n",
      "[-1.2336460670421025e-6 -1.1408327498113342e-6]\n",
      "[9.214011466496968e-5 -0.00014761002817066627]\n",
      "[-0.00037670117698190717 -0.00017042507887004437]\n",
      "[-0.00014034743388228197 9.338675121419132e-5]\n",
      "[-2.8002119329619327e-5 -1.3108977514309552e-5]\n",
      "[-4.362650271593883e-5 1.0029872157984666e-5]\n",
      "[9.843917461128233e-5 -5.786470737083251e-5]\n",
      "[-2.642509192239242e-5 -7.739785394698636e-5]\n",
      "[-4.083163740810239e-6 -2.03816815643797e-5]\n",
      "[-9.720197858607274e-6 2.7230847624240702e-5]\n",
      "[-1.4148637846601533e-5 1.2701846017198083e-6]\n",
      "[-1.216045682157483e-5 1.912909885270956e-5]\n",
      "[4.130851194982225e-6 4.572364502445706e-6]\n",
      "[2.3161195712368259e-7 -7.780694026010496e-6]\n",
      "[-6.659894166405583e-7 1.3649925722327988e-6]\n",
      "[-3.1708141869539224e-6 3.301030112728984e-6]\n",
      "[-3.6910158047115797e-6 1.5801773005233842e-6]\n",
      "[6.145329687987071e-7 -6.986583824832302e-7]\n",
      "[5.582370737880441e-6 1.0162794593230294e-6]\n",
      "[-4.992317909164894e-7 -9.976263547039336e-8]\n",
      "[-7.157452316724163e-7 1.1060915530421683e-6]\n",
      "[-8.895695283851013e-7 -6.083900302420143e-7]\n",
      "[8.769851087721163e-7 4.2483777791946514e-7]\n",
      "[5.815937902848356e-8 5.602123896517526e-7]\n",
      "[-1.6081170109268128e-7 8.261947462323909e-8]\n",
      "[-1.475990477364611e-7 1.4282662967733124e-7]\n",
      "[-3.1187174481226926e-7 9.823721637708014e-8]\n",
      "[-3.362649044722601e-7 -1.1228773904271064e-8]\n",
      "[6.417054271873835e-8 -6.261223019827786e-8]\n"
     ]
    }
   ],
   "source": [
    "#Defining COA parameters\n",
    "Nvar = 2\n",
    "Npop = 10\n",
    "obj = f1\n",
    "Cons = 1.3                                     #Consentration of egg laying\n",
    "MAXGEN = 50                                    #maximum generations\n",
    "a11 = -5; a12 = 5; a21 = -5; a22 = 5;          #limits\n",
    "A = IntervalBox(a11..a12, a21..a22)            #the region\n",
    "###############################################################################################\n",
    "Current = rand(Uniform(0, 1), Npop, Nvar)      #Genesis\n",
    "Current *= Diagonal([(a12-a11);(a22-a21)])     #stretching it\n",
    "Current += repeat([a11 a21], Npop, 1)          #putting it in place\n",
    "\n",
    "flag = 0\n",
    "\n",
    "for i in 1:MAXGEN                                                    #for each generation\n",
    "    Next = rand(1, Nvar); Next = Next[1:end .!=1,:];                 #preparing the next Gen & makin it empty\n",
    "    eggnum = abs.(ceil.(Int, rand(Normal(11, 4), Npop))).+1              #eggs each cuckoo lays(it could make 0|-)\n",
    "    for j in 1:Npop                                                      #for each bird   \n",
    "        offsprings = repeat(Current[j,:]',eggnum[j],1)                   #make the potential eggs\n",
    "        movements = rand(Uniform(-1, 1), eggnum[j], Nvar)                #make movements\n",
    "        movements *= (Diagonal([(a12-a11);(a22-a21)])./(Npop*Cons^i))    #stretch\n",
    "        offsprings += movements                                          #put them inplace\n",
    "        profit = obj(offsprings)                                         #evaluation\n",
    "        m = median(profit, dims=1)                                       #find meadian\n",
    "        index = findall(profit.<m)                                       #find vulnerables\n",
    "        offsprings = offsprings[index,:]                                 #dismiss them\n",
    "        Next = [Next; offsprings]                                        #push them into the Next Gen\n",
    "    end\n",
    "    N, o = size(Next)                                                #finding size of new population\n",
    "    value = obj(Next)                                                #overall evaluation\n",
    "    bestind = argmin(value)                                          #finding the index of the best\n",
    "    best = Next[bestind,:]'\n",
    "    migdes = Next - repeat(best, N , 1)                              #destination of migration\n",
    "    v = Diagonal(rand(N))*migdes                                     #not all of them make it to the best\n",
    "    Next = Next + v                                                  #migration\n",
    "    q = quantile(value, (1:Npop)./length(value))                     #best Npop's\n",
    "    bestNpopind = findall(value .<= q[Npop])                         #their indices\n",
    "    Next = Next[bestNpopind,:]                                       #dismiss to the Npop\n",
    "    #print(round.(best, digits = 6))\n",
    "    print(best)\n",
    "    print('\\n')\n",
    "    Current = Next                                                   #regenerating\n",
    "end\n",
    "#report the best"
   ]
  },
  {
   "cell_type": "code",
   "execution_count": null,
   "id": "4301e550",
   "metadata": {},
   "outputs": [],
   "source": []
  },
  {
   "cell_type": "code",
   "execution_count": null,
   "id": "848970db",
   "metadata": {},
   "outputs": [],
   "source": []
  },
  {
   "cell_type": "code",
   "execution_count": null,
   "id": "ac098855",
   "metadata": {},
   "outputs": [],
   "source": []
  },
  {
   "cell_type": "code",
   "execution_count": 17,
   "id": "6d95e7bc",
   "metadata": {},
   "outputs": [
    {
     "data": {
      "text/plain": [
       "Rosenbrock (generic function with 1 method)"
      ]
     },
     "execution_count": 17,
     "metadata": {},
     "output_type": "execute_result"
    }
   ],
   "source": [
    "#obj_func     this function takes Nvar*Npop & spits out Fpop*1\n",
    "function Rosenbrock(x)\n",
    "    Npop, Nvar = size(x)\n",
    "    return 100*(x[:,2]-x[:,1].^2).^2 + (ones(Npop)-x[:,1]).^2\n",
    "end"
   ]
  },
  {
   "cell_type": "code",
   "execution_count": 105,
   "id": "1acc7b8f",
   "metadata": {},
   "outputs": [
    {
     "data": {
      "text/plain": [
       "2-element Vector{Float64}:\n",
       "   0.0\n",
       " 401.0"
      ]
     },
     "execution_count": 105,
     "metadata": {},
     "output_type": "execute_result"
    }
   ],
   "source": [
    "R = [1 1;2 2]\n",
    "Rosenbrock(R)"
   ]
  },
  {
   "cell_type": "code",
   "execution_count": null,
   "id": "824288cc",
   "metadata": {},
   "outputs": [],
   "source": []
  },
  {
   "cell_type": "code",
   "execution_count": 24,
   "id": "82eef36f",
   "metadata": {},
   "outputs": [
    {
     "name": "stdout",
     "output_type": "stream",
     "text": [
      "[-0.9744732915044809 0.781736731586388]\n",
      "[-0.2118496844610438 0.05807086703214659]\n",
      "[0.1304673850377711 0.02301826746666813]\n",
      "[0.33244249162217365 0.12485917468754892]\n",
      "[0.885886899710244 0.7851028102262121]\n",
      "[0.635447902244605 0.3872433529517103]\n",
      "[0.787991987498824 0.5884025207983805]\n",
      "[0.6183587896316509 0.42323847423445315]\n",
      "[0.7156014069086679 0.5462860829750633]\n",
      "[0.6467459884747142 0.42625889169033604]\n",
      "[1.0736995224300676 1.1689608006444088]\n",
      "[0.8133116415428624 0.6619007040219149]\n",
      "[0.892000048588153 0.7905163416454661]\n",
      "[0.961209766262688 0.9171948544252951]\n",
      "[0.6752081544647641 0.4682698519010162]\n",
      "[1.0228998054706766 1.0354506613276278]\n",
      "[0.9515943701785535 0.9104710053420834]\n",
      "[1.0127711254639542 1.0198983217474336]\n",
      "[1.0178995952240704 1.0434602372504298]\n",
      "[0.902861090352807 0.8195883997295367]\n",
      "[0.9466945705552056 0.90510031199848]\n",
      "[0.9905131161950376 0.9806425788960131]\n",
      "[1.0207980726508912 1.0373992815013804]\n",
      "[0.9144192408863798 0.8357111203621657]\n",
      "[0.9156608394053983 0.8328000036825476]\n",
      "[0.9179722750700415 0.8422692039018209]\n",
      "[0.9546319941163254 0.9111168925609172]\n",
      "[0.9509134250931297 0.9165665967536826]\n",
      "[1.0087557206096676 1.0198165277196465]\n",
      "[0.9676175625773471 0.9365533511082458]\n",
      "[0.9735987878889523 0.9520656363953246]\n",
      "[1.0487736018072182 1.0994426513906947]\n",
      "[1.0004565514460888 0.9929558447969403]\n",
      "[0.9954964253336832 0.996163423537894]\n",
      "[1.014590701962043 1.0219715617269858]\n",
      "[1.0024776278711305 1.0008150280695272]\n",
      "[0.9752862094112364 0.9530480866252927]\n",
      "[1.0073021215907132 1.0138985124747557]\n",
      "[1.0029795262103443 1.0055731018362448]\n",
      "[1.0001232842553893 0.9988727314418332]\n",
      "[0.980635112004766 0.9612925191982055]\n",
      "[0.9745789932449401 0.9508385579282425]\n",
      "[0.9914754684330128 0.9817873130876978]\n",
      "[0.9865520111881158 0.9733334299838128]\n",
      "[0.9978866340836074 0.9975276124845289]\n",
      "[0.9979212414867854 0.9956380527932338]\n",
      "[0.9965026275224207 0.9937844714734905]\n",
      "[0.9996690978818765 0.9989216461345493]\n",
      "[0.9935546494948477 0.9871702577892519]\n",
      "[1.0023499724439728 1.0046117773692713]\n",
      "[0.9994918698671041 0.9986824472472474]\n",
      "[1.0013789737174412 1.002819874817207]\n",
      "[1.0003656671597858 1.0008954858441237]\n",
      "[1.0018210313235087 1.0044347263259554]\n",
      "[0.9912229086483946 0.982833434719119]\n",
      "[0.9922148156243308 0.9848930744104879]\n",
      "[0.9937356678273033 0.9877006838480658]\n",
      "[0.9941402288106564 0.988038935482823]\n",
      "[0.9950714179886855 0.9904017525481296]\n",
      "[0.9974552018739882 0.9953691520096275]\n",
      "[0.9961586582408695 0.9925096167383037]\n",
      "[0.9985672597934244 0.9972236625617968]\n",
      "[1.0022177667932666 1.0045919574507431]\n",
      "[0.9965006090879045 0.9930478090478175]\n",
      "[0.9975134287293382 0.9950383700634396]\n",
      "[0.9972614047675691 0.9943646576756743]\n",
      "[0.9988717446940969 0.9978586534072639]\n",
      "[0.998576586364399 0.9975133265550976]\n",
      "[0.9999641813476414 0.9999367912905249]\n",
      "[0.9999604439134474 0.9998394143047368]\n",
      "[0.9996871273071319 0.9993172992803494]\n",
      "[0.999675841866429 0.9992829183117701]\n",
      "[1.0005441837585252 1.0011334034682822]\n",
      "[0.9999694783783137 0.9999228555913325]\n",
      "[1.0004873091242261 1.0009201035396609]\n",
      "[0.9995800336199504 0.9991364788704574]\n",
      "[0.9993074973660306 0.99855972970453]\n",
      "[0.999548702225645 0.9991249596603262]\n",
      "[1.0020241395016678 1.0040508803606178]\n",
      "[1.001821325589755 1.0036161126791219]\n",
      "[1.001748818122207 1.0035458659540573]\n",
      "[1.001713149994496 1.003481090843027]\n",
      "[1.0010988993703616 1.002214198073188]\n",
      "[1.0010055577878672 1.0020268651305018]\n",
      "[1.0011190809599237 1.0022693884434128]\n",
      "[1.001054891326454 1.0021333779386588]\n",
      "[1.000890298696148 1.001781690338078]\n",
      "[1.0008730040032854 1.0017286112906005]\n",
      "[1.0005764896835578 1.0011771490628898]\n",
      "[1.0005280139323312 1.001077348845484]\n",
      "[1.0005377770430237 1.0010682621430291]\n",
      "[1.0003944236679243 1.000776911386162]\n",
      "[1.0003453384135803 1.0006594993106992]\n",
      "[1.0004106634996281 1.0008230080019702]\n",
      "[1.000206019348517 1.000410930785075]\n",
      "[1.000183079911956 1.0003859923135052]\n",
      "[1.0001579889746244 1.0003192278062576]\n",
      "[1.0001477603296272 1.0003057513347682]\n",
      "[1.0000125673858564 1.0000218278790942]\n",
      "[1.0000207909636258 1.0000420486723907]\n"
     ]
    }
   ],
   "source": [
    "#Defining COA parameters\n",
    "Nvar = 2\n",
    "Npop = 10\n",
    "obj = Rosenbrock\n",
    "Cons = 1.1                                     #Consentration of egg laying\n",
    "MAXGEN = 100                                    #maximum generations\n",
    "a11 = -5; a12 = 5; a21 = -5; a22 = 5;          #limits\n",
    "A = IntervalBox(a11..a12, a21..a22)            #the region\n",
    "###############################################################################################\n",
    "Current = rand(Uniform(0, 1), Npop, Nvar)      #Genesis\n",
    "Current *= Diagonal([(a12-a11);(a22-a21)])     #stretching it\n",
    "Current += repeat([a11 a21], Npop, 1)          #putting it in place\n",
    "\n",
    "for i in 1:MAXGEN                                                    #for each generation\n",
    "    Next = rand(1, Nvar); Next = Next[1:end .!=1,:];                 #preparing the next Gen & makin it empty\n",
    "    eggnum = abs.(ceil.(Int, rand(Normal(11, 4), Npop))).+1              #eggs each cuckoo lays(it could make 0|-)\n",
    "    for j in 1:Npop                                                      #for each bird   \n",
    "        offsprings = repeat(Current[j,:]',eggnum[j],1)                   #make the potential eggs\n",
    "        movements = rand(Uniform(-1, 1), eggnum[j], Nvar)                #make movements\n",
    "        movements *= (Diagonal([(a12-a11);(a22-a21)])./(Npop*Cons^i))    #stretch\n",
    "        offsprings += movements                                          #put them inplace\n",
    "        profit = obj(offsprings)                                         #evaluation\n",
    "        m = median(profit, dims=1)                                       #find meadian\n",
    "        index = findall(profit.<m)                                       #find vulnerables\n",
    "        offsprings = offsprings[index,:]                                 #dismiss them\n",
    "        Next = [Next; offsprings]                                        #push them into the Next Gen\n",
    "    end\n",
    "    N, o = size(Next)                                                #finding size of new population\n",
    "    value = obj(Next)                                                #overall evaluation\n",
    "    bestind = argmin(value)                                          #finding the index of the best\n",
    "    best = Next[bestind,:]'\n",
    "    migdes = Next - repeat(best, N , 1)                              #destination of migration\n",
    "    v = Diagonal(rand(N))*migdes                                     #not all of them make it to the best\n",
    "    Next = Next + v                                                  #migration\n",
    "    q = quantile(value, (1:Npop)./length(value))                     #best Npop's\n",
    "    bestNpopind = findall(value .<= q[Npop])                         #their indices\n",
    "    Next = Next[bestNpopind,:]                                       #dismiss to the Npop\n",
    "    #print(round.(best, digits = 6))\n",
    "    print(best)\n",
    "    print('\\n')\n",
    "    Current = Next                                                   #regenerating\n",
    "end\n",
    "#report the best"
   ]
  },
  {
   "cell_type": "code",
   "execution_count": 14,
   "id": "4f7239a6",
   "metadata": {
    "scrolled": true
   },
   "outputs": [
    {
     "data": {
      "text/plain": [
       "10.0"
      ]
     },
     "execution_count": 14,
     "metadata": {},
     "output_type": "execute_result"
    }
   ],
   "source": [
    "diam(A)"
   ]
  },
  {
   "cell_type": "code",
   "execution_count": null,
   "id": "929a7e9d",
   "metadata": {},
   "outputs": [],
   "source": []
  },
  {
   "cell_type": "code",
   "execution_count": 64,
   "id": "bdcdd05d",
   "metadata": {},
   "outputs": [
    {
     "name": "stdout",
     "output_type": "stream",
     "text": [
      "2×4 Matrix{Int64}:\n",
      " 1  2  3  4\n",
      " 2  3  4  5\n"
     ]
    },
    {
     "data": {
      "text/plain": [
       "0"
      ]
     },
     "execution_count": 64,
     "metadata": {},
     "output_type": "execute_result"
    }
   ],
   "source": [
    "A = [1 2 3 4; 2 3 4 5]\n",
    "show(stdout, \"text/plain\", A)\n",
    "print('\\n')\n",
    "B = 0"
   ]
  },
  {
   "cell_type": "code",
   "execution_count": null,
   "id": "297e013a",
   "metadata": {},
   "outputs": [],
   "source": []
  },
  {
   "cell_type": "code",
   "execution_count": null,
   "id": "82e0e30f",
   "metadata": {},
   "outputs": [],
   "source": []
  },
  {
   "cell_type": "code",
   "execution_count": null,
   "id": "21e77322",
   "metadata": {},
   "outputs": [],
   "source": []
  }
 ],
 "metadata": {
  "kernelspec": {
   "display_name": "Julia 1.6.2",
   "language": "julia",
   "name": "julia-1.6"
  },
  "language_info": {
   "file_extension": ".jl",
   "mimetype": "application/julia",
   "name": "julia",
   "version": "1.6.2"
  }
 },
 "nbformat": 4,
 "nbformat_minor": 5
}
