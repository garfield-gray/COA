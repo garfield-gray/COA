{
 "cells": [
  {
   "cell_type": "code",
   "execution_count": null,
   "id": "ec7b6e3b",
   "metadata": {},
   "outputs": [],
   "source": []
  },
  {
   "cell_type": "code",
   "execution_count": 1,
   "id": "d1927a27",
   "metadata": {},
   "outputs": [],
   "source": [
    "using IntervalArithmetic\n",
    "using Distributions"
   ]
  },
  {
   "cell_type": "code",
   "execution_count": 2,
   "id": "dd496b88",
   "metadata": {},
   "outputs": [],
   "source": [
    "#first of all make two dimentional without constrain(to show the angle things)\n",
    "#then make n dimentional (define bitewise functions)\n",
    "#then add constrains (solve the desired problems)"
   ]
  },
  {
   "cell_type": "code",
   "execution_count": 3,
   "id": "805bcc0b",
   "metadata": {},
   "outputs": [
    {
     "data": {
      "text/plain": [
       "f1 (generic function with 1 method)"
      ]
     },
     "execution_count": 3,
     "metadata": {},
     "output_type": "execute_result"
    }
   ],
   "source": [
    "#obj_func     this function takes Nvar*Npop & spits out Fpop*1\n",
    "function f1(x)\n",
    "    return x[:,1].^2+x[:,2].^2\n",
    "end"
   ]
  },
  {
   "cell_type": "code",
   "execution_count": 4,
   "id": "e8dd9983",
   "metadata": {},
   "outputs": [],
   "source": [
    "#in the name of God\n",
    "#Defining COA parameters\n",
    "Nvar = 2\n",
    "Npop = 10\n",
    "obj = f1\n",
    "Dmp = 1\n",
    "MAXGEN = 40                                    #maximum generations\n",
    "a11 = -5; a12 = 5; a21 = -5; a22 = 5;          #limits\n",
    "A = IntervalBox(a11..a12, a21..a22)            #the region\n",
    "###############################################################################################\n",
    "Current = rand(Uniform(a11, a12), Npop, Nvar)      #Genesis\n",
    "\n",
    "f = obj(Current)\n",
    "\n",
    "for i in 1:MAXGEN                                          #for each generation\n",
    "    Next = rand(1, Nvar); Next = Next[1:end .!=1,:]        #preparing the next Gen & makin it empty                    \n",
    "    eggnum = trunc.(Int, rand(Normal(12, 4), Npop))        #eggs each cuckoo lays\n",
    "    for j in 1:Npop                                        #for each bird   \n",
    "        offsprings = repeat(Current[j,:]',eggnum[j],1)\n",
    "        #movements = \n",
    "        offsprings += #movements\n",
    "        #dismiss (pushing out of nest) update Npop\n",
    "        Next = [Next; offsprings]\n",
    "    end\n",
    "    #overall dismiss + update Npop\n",
    "    #find best\n",
    "    for j in 1:Npop\n",
    "        #migration toward the best (with radius)\n",
    "    end\n",
    "    Current = Next\n",
    "end\n",
    "\n",
    "#report the best"
   ]
  },
  {
   "cell_type": "code",
   "execution_count": null,
   "id": "10d342d0",
   "metadata": {},
   "outputs": [],
   "source": []
  },
  {
   "cell_type": "code",
   "execution_count": null,
   "id": "365eafe1",
   "metadata": {},
   "outputs": [],
   "source": []
  },
  {
   "cell_type": "code",
   "execution_count": 25,
   "id": "324ea39b",
   "metadata": {},
   "outputs": [
    {
     "data": {
      "text/plain": [
       "true"
      ]
     },
     "execution_count": 25,
     "metadata": {},
     "output_type": "execute_result"
    }
   ],
   "source": [
    "in([0;1], A)"
   ]
  },
  {
   "cell_type": "code",
   "execution_count": 26,
   "id": "4f7239a6",
   "metadata": {},
   "outputs": [
    {
     "data": {
      "text/plain": [
       "10.0"
      ]
     },
     "execution_count": 26,
     "metadata": {},
     "output_type": "execute_result"
    }
   ],
   "source": [
    "diam(A)"
   ]
  },
  {
   "cell_type": "code",
   "execution_count": null,
   "id": "38fc9d17",
   "metadata": {},
   "outputs": [],
   "source": []
  },
  {
   "cell_type": "code",
   "execution_count": 17,
   "id": "b61a4d38",
   "metadata": {},
   "outputs": [
    {
     "data": {
      "text/plain": [
       "4-element Vector{Int64}:\n",
       " 1\n",
       " 3\n",
       " 4\n",
       " 5"
      ]
     },
     "execution_count": 17,
     "metadata": {},
     "output_type": "execute_result"
    }
   ],
   "source": [
    "i = findall([1;7;3;4;5].<[2;3;4;5;6])"
   ]
  },
  {
   "cell_type": "code",
   "execution_count": null,
   "id": "29157dbd",
   "metadata": {},
   "outputs": [],
   "source": []
  },
  {
   "cell_type": "code",
   "execution_count": 17,
   "id": "b15945cb",
   "metadata": {},
   "outputs": [
    {
     "data": {
      "text/plain": [
       "4×3 Matrix{Int64}:\n",
       " 1  2  3\n",
       " 1  2  3\n",
       " 1  2  3\n",
       " 1  2  3"
      ]
     },
     "execution_count": 17,
     "metadata": {},
     "output_type": "execute_result"
    }
   ],
   "source": [
    "e = repeat([1 2 3],4,1)"
   ]
  },
  {
   "cell_type": "code",
   "execution_count": 18,
   "id": "e605827e",
   "metadata": {},
   "outputs": [
    {
     "data": {
      "text/plain": [
       "4×3 Matrix{Int64}:\n",
       " 1  6  3\n",
       " 1  6  3\n",
       " 1  6  3\n",
       " 1  6  3"
      ]
     },
     "execution_count": 18,
     "metadata": {},
     "output_type": "execute_result"
    }
   ],
   "source": [
    "f = repeat([1 6 3],4,1)"
   ]
  },
  {
   "cell_type": "code",
   "execution_count": 19,
   "id": "9a33ffa8",
   "metadata": {},
   "outputs": [
    {
     "data": {
      "text/plain": [
       "4×3 Matrix{Int64}:\n",
       " 2  8  6\n",
       " 2  8  6\n",
       " 2  8  6\n",
       " 2  8  6"
      ]
     },
     "execution_count": 19,
     "metadata": {},
     "output_type": "execute_result"
    }
   ],
   "source": [
    "e  += f"
   ]
  },
  {
   "cell_type": "code",
   "execution_count": 20,
   "id": "3a7d9a4e",
   "metadata": {},
   "outputs": [
    {
     "data": {
      "text/plain": [
       "8×3 Matrix{Int64}:\n",
       " 2  8  6\n",
       " 2  8  6\n",
       " 2  8  6\n",
       " 2  8  6\n",
       " 1  6  3\n",
       " 1  6  3\n",
       " 1  6  3\n",
       " 1  6  3"
      ]
     },
     "execution_count": 20,
     "metadata": {},
     "output_type": "execute_result"
    }
   ],
   "source": [
    "e = [e;f]"
   ]
  },
  {
   "cell_type": "code",
   "execution_count": 23,
   "id": "116e8e84",
   "metadata": {},
   "outputs": [
    {
     "data": {
      "text/plain": [
       "1×4 Matrix{Float64}:\n",
       " 1.0  2.0  3.0  4.0"
      ]
     },
     "execution_count": 23,
     "metadata": {},
     "output_type": "execute_result"
    }
   ],
   "source": [
    "Next = rand(1, 4);Next = Next[1:end .!=1,:]                              #& makin it empty\n",
    "Next = [Next; [1 2 3 4]] "
   ]
  },
  {
   "cell_type": "code",
   "execution_count": null,
   "id": "6297fb55",
   "metadata": {},
   "outputs": [],
   "source": []
  }
 ],
 "metadata": {
  "kernelspec": {
   "display_name": "Julia 1.6.2",
   "language": "julia",
   "name": "julia-1.6"
  },
  "language_info": {
   "file_extension": ".jl",
   "mimetype": "application/julia",
   "name": "julia",
   "version": "1.6.2"
  }
 },
 "nbformat": 4,
 "nbformat_minor": 5
}
