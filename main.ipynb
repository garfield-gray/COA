{
 "cells": [
  {
   "cell_type": "code",
   "execution_count": null,
   "id": "ec7b6e3b",
   "metadata": {},
   "outputs": [],
   "source": []
  },
  {
   "cell_type": "code",
   "execution_count": null,
   "id": "215db3d1",
   "metadata": {},
   "outputs": [],
   "source": []
  },
  {
   "cell_type": "code",
   "execution_count": null,
   "id": "dd496b88",
   "metadata": {},
   "outputs": [],
   "source": [
    "#first of all make one dimentional without constrain\n",
    "#then make n dimentional (define bitewise functions)\n",
    "#then add constrains (solve the desired problems)"
   ]
  },
  {
   "cell_type": "code",
   "execution_count": 3,
   "id": "805bcc0b",
   "metadata": {},
   "outputs": [
    {
     "data": {
      "text/plain": [
       "f1 (generic function with 1 method)"
      ]
     },
     "execution_count": 3,
     "metadata": {},
     "output_type": "execute_result"
    }
   ],
   "source": [
    "#obj_func\n",
    "function f1(x)\n",
    "    return x^2\n",
    "end"
   ]
  },
  {
   "cell_type": "code",
   "execution_count": null,
   "id": "e8dd9983",
   "metadata": {},
   "outputs": [],
   "source": [
    "#in the name of God\n",
    "#Denining COA parameters\n",
    "Nvar = 1\n",
    "Npop = 5\n",
    "obj = f1\n",
    "Dmp = 1\n",
    "\n",
    "######################################################"
   ]
  }
 ],
 "metadata": {
  "kernelspec": {
   "display_name": "Julia 1.6.2",
   "language": "julia",
   "name": "julia-1.6"
  },
  "language_info": {
   "file_extension": ".jl",
   "mimetype": "application/julia",
   "name": "julia",
   "version": "1.6.2"
  }
 },
 "nbformat": 4,
 "nbformat_minor": 5
}
