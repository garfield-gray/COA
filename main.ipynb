{
 "cells": [
  {
   "cell_type": "code",
   "execution_count": null,
   "id": "ec7b6e3b",
   "metadata": {},
   "outputs": [],
   "source": []
  },
  {
   "cell_type": "code",
   "execution_count": null,
   "id": "215db3d1",
   "metadata": {},
   "outputs": [],
   "source": []
  },
  {
   "cell_type": "code",
   "execution_count": null,
   "id": "3e11b00a",
   "metadata": {},
   "outputs": [],
   "source": []
  },
  {
   "cell_type": "code",
   "execution_count": 1,
   "id": "d1927a27",
   "metadata": {},
   "outputs": [],
   "source": [
    "using IntervalArithmetic\n",
    "using Distributions"
   ]
  },
  {
   "cell_type": "code",
   "execution_count": 2,
   "id": "dd496b88",
   "metadata": {},
   "outputs": [],
   "source": [
    "#first of all make two dimentional without constrain(to show the angle things)\n",
    "#then make n dimentional (define bitewise functions)\n",
    "#then add constrains (solve the desired problems)"
   ]
  },
  {
   "cell_type": "code",
   "execution_count": 3,
   "id": "805bcc0b",
   "metadata": {},
   "outputs": [
    {
     "data": {
      "text/plain": [
       "f1 (generic function with 1 method)"
      ]
     },
     "execution_count": 3,
     "metadata": {},
     "output_type": "execute_result"
    }
   ],
   "source": [
    "#obj_func     this function takes Nvar*Npop & spits out Fpop*1\n",
    "function f1(x)\n",
    "    return x[:,1].^2+x[:,2].^2\n",
    "end"
   ]
  },
  {
   "cell_type": "code",
   "execution_count": 72,
   "id": "e8dd9983",
   "metadata": {},
   "outputs": [
    {
     "name": "stdout",
     "output_type": "stream",
     "text": [
      "12345678910111213141516171819202122232425262728293031323334353637383940"
     ]
    }
   ],
   "source": [
    "#in the name of God\n",
    "#Denining COA parameters\n",
    "Nvar = 2\n",
    "Npop = 10\n",
    "obj = f1\n",
    "Dmp = 1\n",
    "MAXGEN = 40                                    #maximum generations\n",
    "a11 = -5; a12 = 5; a21 = -5; a22 = 5;          #limits\n",
    "A = IntervalBox(a11..a12, a21..a22)            #the region\n",
    "######################################################\n",
    "current = [rand(Uniform(a11, a12), Npop) rand(Uniform(a21, a22), Npop)];     #Genesis\n",
    "\n",
    "Next = rand(1, Npop)                                                         #preparing the next Gen\n",
    "Next = Next[1:end .!=1,:]                                                    #& makin it empty\n",
    "#egg laying based on ELR(the ball video + put in the matrix)\n",
    "f = obj(x)\n",
    "#Dismiss\n",
    "#migration\n",
    "for i in 1:MAXGEN                                          #in each generation\n",
    "    eggnum = trunc.(Int, rand(Normal(12, 4), Npop))        #eggs each cuckoo lays\n",
    "    for j in 1:Npop                                        #for each bird\n",
    "        for k in 1:eggnum[j]\n",
    "            #blah\n",
    "        end\n",
    "    end\n",
    "end\n",
    "\n"
   ]
  },
  {
   "cell_type": "code",
   "execution_count": null,
   "id": "10d342d0",
   "metadata": {},
   "outputs": [],
   "source": []
  },
  {
   "cell_type": "code",
   "execution_count": null,
   "id": "be60acb9",
   "metadata": {},
   "outputs": [],
   "source": []
  },
  {
   "cell_type": "code",
   "execution_count": 25,
   "id": "324ea39b",
   "metadata": {},
   "outputs": [
    {
     "data": {
      "text/plain": [
       "true"
      ]
     },
     "execution_count": 25,
     "metadata": {},
     "output_type": "execute_result"
    }
   ],
   "source": [
    "in([0;1], A)"
   ]
  },
  {
   "cell_type": "code",
   "execution_count": 26,
   "id": "4f7239a6",
   "metadata": {},
   "outputs": [
    {
     "data": {
      "text/plain": [
       "10.0"
      ]
     },
     "execution_count": 26,
     "metadata": {},
     "output_type": "execute_result"
    }
   ],
   "source": [
    "diam(A)"
   ]
  },
  {
   "cell_type": "code",
   "execution_count": null,
   "id": "38fc9d17",
   "metadata": {},
   "outputs": [],
   "source": []
  },
  {
   "cell_type": "code",
   "execution_count": 38,
   "id": "7494018b",
   "metadata": {},
   "outputs": [
    {
     "name": "stdout",
     "output_type": "stream",
     "text": [
      "1234567891011121314151617"
     ]
    }
   ],
   "source": [
    "r = trunc.(Int, rand(Normal(12, 5), 10))\n",
    "for j in 1:r[3]\n",
    "    print(j)\n",
    "end"
   ]
  },
  {
   "cell_type": "code",
   "execution_count": 11,
   "id": "7123d512",
   "metadata": {},
   "outputs": [
    {
     "data": {
      "text/plain": [
       "9-element Vector{Int64}:\n",
       "  7\n",
       " 11\n",
       "  8\n",
       "  8\n",
       " 10\n",
       "  8\n",
       "  9\n",
       " 11\n",
       "  8"
      ]
     },
     "execution_count": 11,
     "metadata": {},
     "output_type": "execute_result"
    }
   ],
   "source": [
    "rand(Binomial(19), 9)"
   ]
  },
  {
   "cell_type": "code",
   "execution_count": 17,
   "id": "b61a4d38",
   "metadata": {},
   "outputs": [
    {
     "data": {
      "text/plain": [
       "4-element Vector{Int64}:\n",
       " 1\n",
       " 3\n",
       " 4\n",
       " 5"
      ]
     },
     "execution_count": 17,
     "metadata": {},
     "output_type": "execute_result"
    }
   ],
   "source": [
    "i = findall([1;7;3;4;5].<[2;3;4;5;6])"
   ]
  },
  {
   "cell_type": "code",
   "execution_count": null,
   "id": "29157dbd",
   "metadata": {},
   "outputs": [],
   "source": []
  }
 ],
 "metadata": {
  "kernelspec": {
   "display_name": "Julia 1.6.2",
   "language": "julia",
   "name": "julia-1.6"
  },
  "language_info": {
   "file_extension": ".jl",
   "mimetype": "application/julia",
   "name": "julia",
   "version": "1.6.2"
  }
 },
 "nbformat": 4,
 "nbformat_minor": 5
}
