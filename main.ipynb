{
 "cells": [
  {
   "cell_type": "code",
   "execution_count": null,
   "id": "ec7b6e3b",
   "metadata": {},
   "outputs": [],
   "source": []
  },
  {
   "cell_type": "code",
   "execution_count": 1,
   "id": "d1927a27",
   "metadata": {},
   "outputs": [],
   "source": [
    "using IntervalArithmetic\n",
    "using LinearAlgebra\n",
    "using Distributions\n",
    "using Statistics\n",
    "using Plots"
   ]
  },
  {
   "cell_type": "code",
   "execution_count": 2,
   "id": "dd496b88",
   "metadata": {},
   "outputs": [],
   "source": [
    "#first of all make two dimentional without constrain(to show the angle things)   done (only debugging left) \n",
    "#then make n dimentional (define bitewise functions)\n",
    "#then add constrains (solve the desired problems)"
   ]
  },
  {
   "cell_type": "code",
   "execution_count": 3,
   "id": "805bcc0b",
   "metadata": {},
   "outputs": [
    {
     "data": {
      "text/plain": [
       "f1 (generic function with 1 method)"
      ]
     },
     "execution_count": 3,
     "metadata": {},
     "output_type": "execute_result"
    }
   ],
   "source": [
    "#obj_func     this function takes Nvar*Npop & spits out Fpop*1\n",
    "function f1(x)\n",
    "    return x[:,1].^2+x[:,2].^2\n",
    "end"
   ]
  },
  {
   "cell_type": "code",
   "execution_count": 75,
   "id": "e8dd9983",
   "metadata": {},
   "outputs": [
    {
     "name": "stdout",
     "output_type": "stream",
     "text": [
      "[-0.1509544618034806 0.03463799807712485]\n",
      "[0.03167991503088513 -0.10346380630205654]\n",
      "[0.02580626796403873 0.06303414922199713]\n",
      "[-0.015897919642922143 -0.012066104534864057]\n",
      "[-0.022848955797275423 -0.034913666688028755]\n",
      "[-0.003563638070489414 0.03601634276517155]\n",
      "[-0.00829308173098841 -0.02456629237640595]\n",
      "[-0.007196309963046814 0.021956809999205733]\n",
      "[0.018762374804362124 -0.0015869710446990981]\n",
      "[-0.012150177476693821 0.03818018066977527]\n",
      "[0.004604634557344216 0.011373760290495014]\n",
      "[0.006118889776198393 0.019534577905099215]\n",
      "[-0.009849998961343934 0.034902172824758534]\n",
      "[-0.004070555371972873 0.0018916574587784576]\n",
      "[-0.0024825068363819 0.006762681121061171]\n",
      "[0.004856508496609527 -0.010858637704649385]\n",
      "[-0.01749812280190619 -0.0022438533273568158]\n",
      "[-0.012364035671046311 0.0015221955579336754]\n",
      "[0.002541041098817024 0.011189292925879266]\n",
      "[0.02523751161263397 0.000348326516464088]\n",
      "[-0.022466153650684134 -0.011766188244542591]\n",
      "[0.011399933393193284 0.008174097755436309]\n",
      "[-0.0006343166895435084 0.002962564582571825]\n",
      "[-0.006208276815300447 -0.007962016734265151]\n",
      "[0.007255898455586281 -0.0057257228485644495]\n",
      "[-0.0072967501429904175 -0.00016082442586352191]\n",
      "[0.005180627607939623 -0.0056420936218046745]\n",
      "[-0.016791986012103986 0.0037060546243922153]\n",
      "[0.010035912893136906 -0.014891892960856586]\n",
      "[-0.0029470013702545955 -0.002254625471948643]\n",
      "[0.006798925501859589 -0.01328002569190425]\n",
      "[0.00454617638103678 -0.015900303496018092]\n",
      "[0.008634638151471957 0.004546563733939836]\n",
      "[0.003024600855703597 0.00022243370681468075]\n",
      "[0.0021349462301004027 -0.0016059232422687558]\n",
      "[0.0009002064552852442 0.0023658360642751924]\n",
      "[0.006294324834634879 -0.0024025167919870544]\n",
      "[0.00703951372535103 -0.0028142637522777098]\n",
      "[-0.001079527835124015 0.0014196983640030955]\n",
      "[-0.002888905224987748 0.005092692380611155]\n",
      "[0.0006297972294118805 0.0015639718022875029]\n",
      "[0.004281503631653343 -0.005359406267537796]\n",
      "[0.0027220572387907285 -0.001596570499166625]\n",
      "[-0.0012933707687582665 0.003902486007360227]\n",
      "[0.0007718005221511587 -0.004436008171064668]\n"
     ]
    },
    {
     "ename": "LoadError",
     "evalue": "ArgumentError: no outer repetition count may be negative; got (-1, 1)",
     "output_type": "error",
     "traceback": [
      "ArgumentError: no outer repetition count may be negative; got (-1, 1)",
      "",
      "Stacktrace:",
      " [1] check",
      "   @ ./abstractarraymath.jl:318 [inlined]",
      " [2] repeat(arr::Adjoint{Float64, Vector{Float64}}; inner::Nothing, outer::Tuple{Int64, Int64})",
      "   @ Base._RepeatInnerOuter ./abstractarraymath.jl:267",
      " [3] repeat(::Adjoint{Float64, Vector{Float64}}, ::Int64, ::Int64)",
      "   @ Base ./abstractarraymath.jl:224",
      " [4] top-level scope",
      "   @ ./In[75]:21",
      " [5] eval",
      "   @ ./boot.jl:360 [inlined]",
      " [6] include_string(mapexpr::typeof(REPL.softscope), mod::Module, code::String, filename::String)",
      "   @ Base ./loading.jl:1116"
     ]
    }
   ],
   "source": [
    "#in the name of God\n",
    "#Defining COA parameters\n",
    "Nvar = 2\n",
    "Npop = 20\n",
    "obj = f1\n",
    "Cons = 1.05                                    #Consentration of egg laying\n",
    "MAXGEN = 60                                    #maximum generations\n",
    "a11 = -5; a12 = 5; a21 = -5; a22 = 5;          #limits\n",
    "A = IntervalBox(a11..a12, a21..a22)            #the region\n",
    "###############################################################################################\n",
    "Current = rand(Uniform(0, 1), Npop, Nvar)      #Genesis\n",
    "Current *= Diagonal([(a12-a11);(a22-a21)])     #stretching it\n",
    "Current += repeat([a11 a21], Npop, 1)          #putting it in place\n",
    "\n",
    "flag = 0\n",
    "\n",
    "for i in 1:MAXGEN                                                    #for each generation\n",
    "    Next = rand(1, Nvar); Next = Next[1:end .!=1,:];                 #preparing the next Gen & makin it empty\n",
    "    eggnum = trunc.(Int, rand(Normal(12, 4), Npop))                  #eggs each cuckoo lays\n",
    "    for j in 1:Npop                                                      #for each bird   \n",
    "        offsprings = repeat(Current[j,:]',eggnum[j],1)                   #make the potential eggs\n",
    "        movements = rand(Uniform(-1, 1), eggnum[j], Nvar)                #make movements\n",
    "        movements *= (Diagonal([(a12-a11);(a22-a21)])./(Npop*Cons^i))    #stretch\n",
    "        offsprings += movements                                          #put them inplace\n",
    "        profit = obj(offsprings)                                         #evaluation\n",
    "        m = median(profit, dims=1)                                       #find meadian\n",
    "        index = findall(profit.<m)                                       #find vulnerables\n",
    "        offsprings = offsprings[index,:]                                 #dismiss them\n",
    "        Next = [Next; offsprings]                                        #push them into the Next Gen\n",
    "    end\n",
    "    N, o = size(Next)                                                #finding size of new population\n",
    "    value = obj(Next)                                                #overall evaluation\n",
    "    bestind = argmin(value)                                          #finding the index of the best\n",
    "    best = Next[bestind,:]'\n",
    "    migdes = Next - repeat(best, N , 1)                              #destination of migration\n",
    "    v = Diagonal(rand(N))*migdes                                     #not all of them make it to the best\n",
    "    Next = Next + v                                                  #migration\n",
    "    q = quantile(value, (1:Npop)./length(value))                     #best Npop's\n",
    "    bestNpopind = findall(value .<= q[Npop])                         #their indices\n",
    "    Next = Next[bestNpopind,:]                                       #dismiss to the Npop\n",
    "    print(best)\n",
    "    print('\\n')\n",
    "    Current = Next                                                   #regenerating\n",
    "end\n",
    "#report the best"
   ]
  },
  {
   "cell_type": "code",
   "execution_count": null,
   "id": "1985bac8",
   "metadata": {},
   "outputs": [],
   "source": []
  },
  {
   "cell_type": "code",
   "execution_count": 25,
   "id": "324ea39b",
   "metadata": {},
   "outputs": [
    {
     "data": {
      "text/plain": [
       "true"
      ]
     },
     "execution_count": 25,
     "metadata": {},
     "output_type": "execute_result"
    }
   ],
   "source": [
    "\n",
    "in([0;1], A)"
   ]
  },
  {
   "cell_type": "code",
   "execution_count": 26,
   "id": "4f7239a6",
   "metadata": {},
   "outputs": [
    {
     "data": {
      "text/plain": [
       "10.0"
      ]
     },
     "execution_count": 26,
     "metadata": {},
     "output_type": "execute_result"
    }
   ],
   "source": [
    "diam(A)"
   ]
  },
  {
   "cell_type": "code",
   "execution_count": null,
   "id": "29157dbd",
   "metadata": {},
   "outputs": [],
   "source": []
  },
  {
   "cell_type": "code",
   "execution_count": null,
   "id": "faaf74e2",
   "metadata": {},
   "outputs": [],
   "source": []
  },
  {
   "cell_type": "code",
   "execution_count": 106,
   "id": "e6e70f88",
   "metadata": {},
   "outputs": [
    {
     "data": {
      "text/plain": [
       "3×1 Matrix{Int64}:\n",
       " 1\n",
       " 2\n",
       " 5"
      ]
     },
     "execution_count": 106,
     "metadata": {},
     "output_type": "execute_result"
    }
   ],
   "source": [
    "a = [1;2;5;6;7;8; 100]\n",
    "\n",
    "m = median(a, dims=1)\n",
    "i = findall(a.<m)\n",
    "a = a[i,:]\n",
    "a"
   ]
  },
  {
   "cell_type": "code",
   "execution_count": null,
   "id": "929a7e9d",
   "metadata": {},
   "outputs": [],
   "source": []
  },
  {
   "cell_type": "code",
   "execution_count": 64,
   "id": "bdcdd05d",
   "metadata": {},
   "outputs": [
    {
     "name": "stdout",
     "output_type": "stream",
     "text": [
      "2×4 Matrix{Int64}:\n",
      " 1  2  3  4\n",
      " 2  3  4  5\n"
     ]
    },
    {
     "data": {
      "text/plain": [
       "0"
      ]
     },
     "execution_count": 64,
     "metadata": {},
     "output_type": "execute_result"
    }
   ],
   "source": [
    "A = [1 2 3 4; 2 3 4 5]\n",
    "show(stdout, \"text/plain\", A)\n",
    "print('\\n')\n",
    "B = 0"
   ]
  },
  {
   "cell_type": "code",
   "execution_count": null,
   "id": "297e013a",
   "metadata": {},
   "outputs": [],
   "source": []
  }
 ],
 "metadata": {
  "kernelspec": {
   "display_name": "Julia 1.6.2",
   "language": "julia",
   "name": "julia-1.6"
  },
  "language_info": {
   "file_extension": ".jl",
   "mimetype": "application/julia",
   "name": "julia",
   "version": "1.6.2"
  }
 },
 "nbformat": 4,
 "nbformat_minor": 5
}
