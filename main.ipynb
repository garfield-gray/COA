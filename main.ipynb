{
 "cells": [
  {
   "cell_type": "code",
   "execution_count": null,
   "id": "ec7b6e3b",
   "metadata": {},
   "outputs": [],
   "source": []
  },
  {
   "cell_type": "code",
   "execution_count": 1,
   "id": "d1927a27",
   "metadata": {},
   "outputs": [],
   "source": [
    "using IntervalArithmetic\n",
    "using LinearAlgebra\n",
    "using Distributions\n",
    "using Statistics\n",
    "using Plots"
   ]
  },
  {
   "cell_type": "code",
   "execution_count": 2,
   "id": "dd496b88",
   "metadata": {},
   "outputs": [],
   "source": [
    "#first of all make two dimentional without constrain(to show the angle things)   done (only debugging left) \n",
    "#then make n dimentional (define bitewise functions)\n",
    "#then add constrains (solve the desired problems)"
   ]
  },
  {
   "cell_type": "code",
   "execution_count": 3,
   "id": "805bcc0b",
   "metadata": {},
   "outputs": [
    {
     "data": {
      "text/plain": [
       "f1 (generic function with 1 method)"
      ]
     },
     "execution_count": 3,
     "metadata": {},
     "output_type": "execute_result"
    }
   ],
   "source": [
    "#obj_func     this function takes Nvar*Npop & spits out Fpop*1\n",
    "function f1(x)\n",
    "    return x[:,1].^2+x[:,2].^2\n",
    "end"
   ]
  },
  {
   "cell_type": "code",
   "execution_count": 71,
   "id": "e8dd9983",
   "metadata": {},
   "outputs": [
    {
     "name": "stdout",
     "output_type": "stream",
     "text": [
      "[-0.10040335093726294 0.10648820283829458]\n",
      "[0.02766786373360486 -0.08679743860444367]\n",
      "[-0.03104047859035894 -0.04506210089967848]\n",
      "[0.02440948984422253 0.08406294080809007]\n",
      "[-0.057493734686110215 0.03583474584023477]\n",
      "[0.01257556123482706 0.0017007449567431679]\n",
      "[-0.0290302607175461 0.03980648274303745]\n",
      "[0.024785843653436043 -0.06598545900879639]\n",
      "[-0.05833955567427914 -0.021216443226453996]\n",
      "[0.002977481249695102 0.12347010628160152]\n",
      "[-0.024185287360688756 -0.008248337922417637]\n",
      "[0.003151538887543423 -0.011514310539000927]\n",
      "[-0.03726572688079832 -0.0062406118576064235]\n",
      "[0.013296364610496504 -0.017983002699926975]\n",
      "[-0.052895869857606206 0.02562020879886149]\n",
      "[-0.049294140982154906 -0.015187110924305885]\n",
      "[0.023529302784914323 0.027353951676279208]\n",
      "[0.0037906758625430165 -0.016433840083725337]\n",
      "[0.015705258125540925 -0.003959477637683506]\n",
      "[0.001159577684774142 0.027289388971408923]\n",
      "[-0.006825052125471763 0.026403149169592743]\n",
      "[0.02295920360374991 -0.021348559068140767]\n",
      "[0.02084159007067094 -0.009044212826359366]\n",
      "[-0.04005627071786792 0.009311358059947317]\n",
      "[0.002632052097145461 0.003199688868926208]\n",
      "[-0.024352942613970717 0.018474734127456344]\n",
      "[0.0006162439089286507 -0.03319924335632622]\n",
      "[0.005582937974204699 0.024037864923068135]\n",
      "[-0.009256429959316824 -0.01157856649641148]\n",
      "[0.013873008801483531 -0.02179932820461644]\n",
      "[-0.007565093604173165 -0.023248362625148285]\n",
      "[-0.018402134429994887 0.01913981354755985]\n",
      "[0.026110519561947116 -0.009129756613007686]\n",
      "[-0.006913213550780818 0.009442270401346473]\n",
      "[0.017153870505227584 0.02460031766311136]\n",
      "[-0.007961162915718058 0.01297335296013057]\n",
      "[0.009770374415026761 0.006617432129810707]\n",
      "[0.011498965962420088 -0.0004228699868102648]\n",
      "[-0.012000576308220434 -0.01183065879209412]\n",
      "[0.027467437473459227 0.003530586146040047]\n",
      "[-0.001250190857221209 0.014769265157992095]\n",
      "[-0.01106408184966625 -0.012545044242023837]\n",
      "[-0.001906180100832655 0.004090169144147331]\n",
      "[-0.0032321078087277494 0.0018975472813310473]\n",
      "[0.0002627566147638933 0.007123145753359615]\n",
      "[0.0025183970201365403 0.0013400269070355244]\n",
      "[0.0010946289242001438 -0.004356228585082993]\n",
      "[0.0037229564714015844 -0.006015871372836622]\n",
      "[-0.008907719250490581 0.002457894700951181]\n",
      "[-0.0051561728906880586 0.004657266624601884]\n",
      "[-0.002384930292098887 0.002092864891287358]\n",
      "[-0.005606247662607259 -0.009837219491944629]\n",
      "[0.003806730790278212 0.00216933045191126]\n",
      "[0.0017010587077673296 0.0003259358240105051]\n",
      "[-0.0035799367886343164 0.01055848700282003]\n",
      "[-0.0015165911613401247 0.006354187330346043]\n",
      "[-0.0028292324564325247 -0.004119905781825327]\n",
      "[-0.012419117870483165 -0.0025149372986472077]\n",
      "[-0.004864913655981429 -0.002005722991692257]\n",
      "[0.0024561553893448604 -0.003250912705419445]\n",
      "[0.0005065108472734384 -0.01110625790431945]\n",
      "[0.004495565461946202 0.0063902971659085955]\n",
      "[-0.0030613056838218944 -0.0024115107555064425]\n",
      "[-0.002269663257729598 0.0016903731343170716]\n",
      "[0.0035661862010351666 0.002300375560172159]\n",
      "[0.001089732707575666 0.005650480343889102]\n",
      "[0.0033680282601541364 -0.004126505684692423]\n",
      "[0.0013213717442826893 0.0006342413170435763]\n",
      "[-0.0037753483747559186 -0.0017421612882295972]\n",
      "[-0.0037500009681504364 -0.0015355908533983753]\n",
      "[-0.003375895501212211 -5.187652348441832e-5]\n",
      "[-0.002228205861315326 -0.0009645816309057417]\n",
      "[-0.0017828514197624386 -0.0017160910163361558]\n",
      "[0.0027880403288394456 0.002248918234176029]\n",
      "[0.0007901993734343668 -0.0024855806762852477]\n",
      "[0.0036562673914421954 -0.0017370678998434828]\n",
      "[-0.002097555481244909 0.00045020907336046443]\n",
      "[0.0003412528444675222 -0.004139241049698971]\n",
      "[-0.0005120576315125018 -0.0011899198747062408]\n",
      "[0.0002380521832305721 0.0021236818396743696]\n",
      "[-0.0011054505647527676 0.00022796397482534466]\n",
      "[0.0020728231804974188 -0.0017854475666275963]\n",
      "[0.0009628802585182651 0.0007676568663845876]\n",
      "[-0.00033501300617328703 0.001975110155509339]\n",
      "[0.00020291630362111526 0.000946200547277207]\n",
      "[-4.129474488353364e-5 -0.0001699150968754047]\n",
      "[0.0016241480484070966 -0.00016178464090287926]\n",
      "[0.00014767073148301037 0.0007608483699044397]\n",
      "[0.0004056432067791821 -0.0021010042699940476]\n",
      "[0.0010939487446747559 -0.0016334041337591589]\n",
      "[-0.000561996320964795 0.0006472481447064335]\n",
      "[0.000577586367035168 0.00031126845912892234]\n",
      "[0.00118684408930036 -0.0007093976117301245]\n",
      "[5.897394300706169e-7 0.0011982122071744535]\n",
      "[0.0008693599173997487 -0.00047471769387427026]\n",
      "[-0.00017455583466778005 -0.0007824543709525076]\n",
      "[-0.00034577200468631915 -0.0006267744986325104]\n",
      "[-0.0006723403919067263 0.0005600731679944525]\n",
      "[0.0005104475062521048 1.2151330773590551e-5]\n",
      "[-0.0003237575362295981 0.00012095035363229065]\n"
     ]
    }
   ],
   "source": [
    "#in the name of God\n",
    "#Defining COA parameters\n",
    "Nvar = 2\n",
    "Npop = 10\n",
    "obj = f1\n",
    "Cons = 1.05                                    #Consentration of egg laying\n",
    "MAXGEN = 100                                   #maximum generations\n",
    "a11 = -5; a12 = 5; a21 = -5; a22 = 5;          #limits\n",
    "A = IntervalBox(a11..a12, a21..a22)            #the region\n",
    "###############################################################################################\n",
    "Current = rand(Uniform(0, 1), Npop, Nvar)      #Genesis\n",
    "Current *= Diagonal([(a12-a11);(a22-a21)])     #stretching it\n",
    "Current += repeat([a11 a21], Npop, 1)          #putting it in place\n",
    "\n",
    "flag = 0\n",
    "\n",
    "for i in 1:MAXGEN                                                    #for each generation\n",
    "    Next = rand(1, Nvar); Next = Next[1:end .!=1,:];                 #preparing the next Gen & makin it empty\n",
    "    eggnum = abs.(ceil.(Int, rand(Normal(11, 4), Npop))).+1              #eggs each cuckoo lays(it could make 0|-)\n",
    "    for j in 1:Npop                                                      #for each bird   \n",
    "        offsprings = repeat(Current[j,:]',eggnum[j],1)                   #make the potential eggs\n",
    "        movements = rand(Uniform(-1, 1), eggnum[j], Nvar)                #make movements\n",
    "        movements *= (Diagonal([(a12-a11);(a22-a21)])./(Npop*Cons^i))    #stretch\n",
    "        offsprings += movements                                          #put them inplace\n",
    "        profit = obj(offsprings)                                         #evaluation\n",
    "        m = median(profit, dims=1)                                       #find meadian\n",
    "        index = findall(profit.<m)                                       #find vulnerables\n",
    "        offsprings = offsprings[index,:]                                 #dismiss them\n",
    "        Next = [Next; offsprings]                                        #push them into the Next Gen\n",
    "    end\n",
    "    N, o = size(Next)                                                #finding size of new population\n",
    "    value = obj(Next)                                                #overall evaluation\n",
    "    bestind = argmin(value)                                          #finding the index of the best\n",
    "    best = Next[bestind,:]'\n",
    "    migdes = Next - repeat(best, N , 1)                              #destination of migration\n",
    "    v = Diagonal(rand(N))*migdes                                     #not all of them make it to the best\n",
    "    Next = Next + v                                                  #migration\n",
    "    q = quantile(value, (1:Npop)./length(value))                     #best Npop's\n",
    "    bestNpopind = findall(value .<= q[Npop])                         #their indices\n",
    "    Next = Next[bestNpopind,:]                                       #dismiss to the Npop\n",
    "    #print(round.(best, digits = 3))\n",
    "    print(best)\n",
    "    print('\\n')\n",
    "    Current = Next                                                   #regenerating\n",
    "end\n",
    "#report the best"
   ]
  },
  {
   "cell_type": "code",
   "execution_count": null,
   "id": "1985bac8",
   "metadata": {},
   "outputs": [],
   "source": []
  },
  {
   "cell_type": "code",
   "execution_count": null,
   "id": "993e66b7",
   "metadata": {},
   "outputs": [],
   "source": []
  },
  {
   "cell_type": "code",
   "execution_count": null,
   "id": "041f6b01",
   "metadata": {},
   "outputs": [],
   "source": []
  },
  {
   "cell_type": "code",
   "execution_count": 80,
   "id": "9ecc5470",
   "metadata": {},
   "outputs": [
    {
     "name": "stdout",
     "output_type": "stream",
     "text": [
      "[0.067316 0.931655]\n",
      "[-0.359999 0.274669]\n",
      "[0.050476 0.130343]\n",
      "[0.009642 -0.029145]\n",
      "[0.000854 0.006044]\n",
      "[0.003343 -0.012195]\n",
      "[-0.022661 -0.003824]\n",
      "[-0.002381 0.000605]\n",
      "[0.006241 -0.004936]\n",
      "[-0.003637 0.004995]\n",
      "[-0.002586 0.002178]\n",
      "[-0.009375 -0.001023]\n",
      "[-0.002234 4.5e-5]\n",
      "[0.000193 0.001725]\n",
      "[0.001452 4.5e-5]\n",
      "[0.000961 -0.001659]\n",
      "[-0.001511 -0.0001]\n",
      "[-0.000959 0.0001]\n",
      "[0.000101 0.000119]\n",
      "[0.000424 4.9e-5]\n",
      "[0.000503 0.000469]\n",
      "[0.000196 4.5e-5]\n",
      "[-0.000203 0.000143]\n",
      "[-0.000393 -0.000126]\n",
      "[5.2e-5 6.4e-5]\n",
      "[1.0e-6 -4.2e-5]\n",
      "[2.1e-5 9.6e-5]\n",
      "[1.0e-6 -1.7e-5]\n",
      "[1.4e-5 -3.3e-5]\n",
      "[-1.7e-5 3.0e-6]\n",
      "[6.0e-6 -5.1e-5]\n",
      "[-1.0e-5 2.6e-5]\n",
      "[1.5e-5 9.0e-6]\n",
      "[1.0e-5 -1.1e-5]\n",
      "[1.0e-5 9.0e-6]\n",
      "[-1.0e-6 0.0]\n",
      "[1.0e-6 2.0e-6]\n",
      "[-4.0e-6 -4.0e-6]\n",
      "[-2.0e-6 0.0]\n",
      "[-2.0e-6 -1.0e-6]\n",
      "[1.0e-6 1.0e-6]\n",
      "[-1.0e-6 2.0e-6]\n",
      "[2.0e-6 -1.0e-6]\n",
      "[0.0 1.0e-6]\n",
      "[-1.0e-6 0.0]\n",
      "[0.0 0.0]\n",
      "[-0.0 -1.0e-6]\n",
      "[0.0 -0.0]\n",
      "[0.0 0.0]\n",
      "[-0.0 -0.0]\n"
     ]
    }
   ],
   "source": [
    "#Defining COA parameters\n",
    "Nvar = 2\n",
    "Npop = 10\n",
    "obj = f1\n",
    "Cons = 1.3                                     #Consentration of egg laying\n",
    "MAXGEN = 50                                    #maximum generations\n",
    "a11 = -5; a12 = 5; a21 = -5; a22 = 5;          #limits\n",
    "A = IntervalBox(a11..a12, a21..a22)            #the region\n",
    "###############################################################################################\n",
    "Current = rand(Uniform(0, 1), Npop, Nvar)      #Genesis\n",
    "Current *= Diagonal([(a12-a11);(a22-a21)])     #stretching it\n",
    "Current += repeat([a11 a21], Npop, 1)          #putting it in place\n",
    "\n",
    "flag = 0\n",
    "\n",
    "for i in 1:MAXGEN                                                    #for each generation\n",
    "    Next = rand(1, Nvar); Next = Next[1:end .!=1,:];                 #preparing the next Gen & makin it empty\n",
    "    eggnum = abs.(ceil.(Int, rand(Normal(11, 4), Npop))).+1              #eggs each cuckoo lays(it could make 0|-)\n",
    "    for j in 1:Npop                                                      #for each bird   \n",
    "        offsprings = repeat(Current[j,:]',eggnum[j],1)                   #make the potential eggs\n",
    "        movements = rand(Uniform(-1, 1), eggnum[j], Nvar)                #make movements\n",
    "        movements *= (Diagonal([(a12-a11);(a22-a21)])./(Npop*Cons^i))    #stretch\n",
    "        offsprings += movements                                          #put them inplace\n",
    "        profit = obj(offsprings)                                         #evaluation\n",
    "        m = median(profit, dims=1)                                       #find meadian\n",
    "        index = findall(profit.<m)                                       #find vulnerables\n",
    "        offsprings = offsprings[index,:]                                 #dismiss them\n",
    "        Next = [Next; offsprings]                                        #push them into the Next Gen\n",
    "    end\n",
    "    N, o = size(Next)                                                #finding size of new population\n",
    "    value = obj(Next)                                                #overall evaluation\n",
    "    bestind = argmin(value)                                          #finding the index of the best\n",
    "    best = Next[bestind,:]'\n",
    "    migdes = Next - repeat(best, N , 1)                              #destination of migration\n",
    "    v = Diagonal(rand(N))*migdes                                     #not all of them make it to the best\n",
    "    Next = Next + v                                                  #migration\n",
    "    q = quantile(value, (1:Npop)./length(value))                     #best Npop's\n",
    "    bestNpopind = findall(value .<= q[Npop])                         #their indices\n",
    "    Next = Next[bestNpopind,:]                                       #dismiss to the Npop\n",
    "    print(round.(best, digits = 6))\n",
    "    #print(best)\n",
    "    print('\\n')\n",
    "    Current = Next                                                   #regenerating\n",
    "end\n",
    "#report the best"
   ]
  },
  {
   "cell_type": "code",
   "execution_count": null,
   "id": "65cc29a8",
   "metadata": {},
   "outputs": [],
   "source": []
  },
  {
   "cell_type": "code",
   "execution_count": 13,
   "id": "324ea39b",
   "metadata": {},
   "outputs": [
    {
     "data": {
      "text/plain": [
       "true"
      ]
     },
     "execution_count": 13,
     "metadata": {},
     "output_type": "execute_result"
    }
   ],
   "source": [
    "\n",
    "in([0;1], A)"
   ]
  },
  {
   "cell_type": "code",
   "execution_count": 14,
   "id": "4f7239a6",
   "metadata": {
    "scrolled": true
   },
   "outputs": [
    {
     "data": {
      "text/plain": [
       "10.0"
      ]
     },
     "execution_count": 14,
     "metadata": {},
     "output_type": "execute_result"
    }
   ],
   "source": [
    "diam(A)"
   ]
  },
  {
   "cell_type": "code",
   "execution_count": 42,
   "id": "29157dbd",
   "metadata": {},
   "outputs": [
    {
     "data": {
      "text/plain": [
       "3"
      ]
     },
     "execution_count": 42,
     "metadata": {},
     "output_type": "execute_result"
    }
   ],
   "source": [
    "abs(-3)"
   ]
  },
  {
   "cell_type": "code",
   "execution_count": null,
   "id": "929a7e9d",
   "metadata": {},
   "outputs": [],
   "source": []
  },
  {
   "cell_type": "code",
   "execution_count": 64,
   "id": "bdcdd05d",
   "metadata": {},
   "outputs": [
    {
     "name": "stdout",
     "output_type": "stream",
     "text": [
      "2×4 Matrix{Int64}:\n",
      " 1  2  3  4\n",
      " 2  3  4  5\n"
     ]
    },
    {
     "data": {
      "text/plain": [
       "0"
      ]
     },
     "execution_count": 64,
     "metadata": {},
     "output_type": "execute_result"
    }
   ],
   "source": [
    "A = [1 2 3 4; 2 3 4 5]\n",
    "show(stdout, \"text/plain\", A)\n",
    "print('\\n')\n",
    "B = 0"
   ]
  },
  {
   "cell_type": "code",
   "execution_count": null,
   "id": "297e013a",
   "metadata": {},
   "outputs": [],
   "source": []
  },
  {
   "cell_type": "code",
   "execution_count": null,
   "id": "4bb3360f",
   "metadata": {},
   "outputs": [],
   "source": []
  },
  {
   "cell_type": "code",
   "execution_count": null,
   "id": "1a691831",
   "metadata": {},
   "outputs": [],
   "source": []
  }
 ],
 "metadata": {
  "kernelspec": {
   "display_name": "Julia 1.6.2",
   "language": "julia",
   "name": "julia-1.6"
  },
  "language_info": {
   "file_extension": ".jl",
   "mimetype": "application/julia",
   "name": "julia",
   "version": "1.6.2"
  }
 },
 "nbformat": 4,
 "nbformat_minor": 5
}
