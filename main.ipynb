{
 "cells": [
  {
   "cell_type": "code",
   "execution_count": null,
   "id": "ec7b6e3b",
   "metadata": {},
   "outputs": [],
   "source": []
  },
  {
   "cell_type": "code",
   "execution_count": 1,
   "id": "d1927a27",
   "metadata": {},
   "outputs": [],
   "source": [
    "using IntervalArithmetic\n",
    "using LinearAlgebra\n",
    "using Distributions\n",
    "using Statistics\n",
    "using Plots"
   ]
  },
  {
   "cell_type": "code",
   "execution_count": 2,
   "id": "dd496b88",
   "metadata": {},
   "outputs": [],
   "source": [
    "#first of all make two dimentional without constrain(to show the angle things)\n",
    "#then make n dimentional (define bitewise functions)\n",
    "#then add constrains (solve the desired problems)"
   ]
  },
  {
   "cell_type": "code",
   "execution_count": 3,
   "id": "805bcc0b",
   "metadata": {},
   "outputs": [
    {
     "data": {
      "text/plain": [
       "f1 (generic function with 1 method)"
      ]
     },
     "execution_count": 3,
     "metadata": {},
     "output_type": "execute_result"
    }
   ],
   "source": [
    "#obj_func     this function takes Nvar*Npop & spits out Fpop*1\n",
    "function f1(x)\n",
    "    return x[:,1].^2+x[:,2].^2\n",
    "end"
   ]
  },
  {
   "cell_type": "code",
   "execution_count": 17,
   "id": "e8dd9983",
   "metadata": {},
   "outputs": [],
   "source": [
    "#in the name of God\n",
    "#Defining COA parameters\n",
    "Nvar = 2\n",
    "Npop = 20\n",
    "obj = f1\n",
    "Cons = 1.05                                    #Consentration of egg laying\n",
    "MAXGEN = 40                                    #maximum generations\n",
    "a11 = -5; a12 = 5; a21 = -5; a22 = 5;          #limits\n",
    "A = IntervalBox(a11..a12, a21..a22)            #the region\n",
    "###############################################################################################\n",
    "Current = rand(Uniform(0, 1), Npop, Nvar)      #Genesis\n",
    "Current *= Diagonal([(a12-a11);(a22-a21)])     #stretching it\n",
    "Current += repeat([a11 a21], Npop, 1)          #putting it in place\n",
    "\n",
    "flag = 0\n",
    "\n",
    "for i in 1:MAXGEN                                                    #for each generation\n",
    "    Next = rand(1, Nvar); Next = Next[1:end .!=1,:];                 #preparing the next Gen & makin it empty                    \n",
    "    eggnum = trunc.(Int, rand(Normal(12, 4), Npop))                  #eggs each cuckoo lays\n",
    "    for j in 1:Npop                                                      #for each bird   \n",
    "        offsprings = repeat(Current[j,:]',eggnum[j],1)                   #make the potential eggs\n",
    "        movements = rand(Uniform(-1, 1), eggnum[j], Nvar)                #make movements\n",
    "        movements *= (Diagonal([(a12-a11);(a22-a21)])./(Npop*Cons^i))    #stretch\n",
    "        offsprings += movements                                          #put them inplace\n",
    "        profit = obj(offsprings)                                         #evaluation\n",
    "        m = median(profit, dims=1)                                       #find meadian\n",
    "        index = findall(profit.<m)                                       #find vulnerables\n",
    "        offsprings = offsprings[index,:]                                 #dismiss them\n",
    "        Next = [Next; offsprings]                                        #push them into the Next Gen\n",
    "    end\n",
    "    N, o = size(Next)                                                #finding size of new population\n",
    "    value = obj(Next)                                                #overall evaluation   \n",
    "    bestind = argmin(value)                                          #finding the index of the best\n",
    "    best = Next[bestind,:]'\n",
    "    migdes = Next - repeat(best, N , 1)                              #destination of migration\n",
    "    v = Diagonal(rand(N))*migdes\n",
    "    Next = Next + v                                                  #migration\n",
    "    \n",
    "    \n",
    "    \n",
    "    \n",
    "    \n",
    "    profit = obj(Next)                                                #evaluation\n",
    "    m = median(profit, dims=1)                                        #find meadian\n",
    "    index = findall(profit.<m)                                        #find vulnerables\n",
    "    Next = Next[index,:]                                              #dismiss them\n",
    "\n",
    "    #dismiss to the Npop\n",
    "    Current = Next\n",
    "end\n",
    "#report the best"
   ]
  },
  {
   "cell_type": "code",
   "execution_count": null,
   "id": "10d342d0",
   "metadata": {},
   "outputs": [],
   "source": []
  },
  {
   "cell_type": "code",
   "execution_count": null,
   "id": "1985bac8",
   "metadata": {},
   "outputs": [],
   "source": []
  },
  {
   "cell_type": "code",
   "execution_count": 21,
   "id": "c5886827",
   "metadata": {},
   "outputs": [
    {
     "data": {
      "text/plain": [
       "(11,)"
      ]
     },
     "execution_count": 21,
     "metadata": {},
     "output_type": "execute_result"
    }
   ],
   "source": [
    "A = [8;0;-6;1;2;3;4;6;77;8;9]\n",
    "argmin(A)\n",
    "size(A)"
   ]
  },
  {
   "cell_type": "code",
   "execution_count": null,
   "id": "ba96703d",
   "metadata": {},
   "outputs": [],
   "source": []
  },
  {
   "cell_type": "code",
   "execution_count": null,
   "id": "58b92a28",
   "metadata": {},
   "outputs": [],
   "source": []
  },
  {
   "cell_type": "code",
   "execution_count": 25,
   "id": "324ea39b",
   "metadata": {},
   "outputs": [
    {
     "data": {
      "text/plain": [
       "true"
      ]
     },
     "execution_count": 25,
     "metadata": {},
     "output_type": "execute_result"
    }
   ],
   "source": [
    "\n",
    "in([0;1], A)"
   ]
  },
  {
   "cell_type": "code",
   "execution_count": 26,
   "id": "4f7239a6",
   "metadata": {},
   "outputs": [
    {
     "data": {
      "text/plain": [
       "10.0"
      ]
     },
     "execution_count": 26,
     "metadata": {},
     "output_type": "execute_result"
    }
   ],
   "source": [
    "diam(A)"
   ]
  },
  {
   "cell_type": "code",
   "execution_count": 82,
   "id": "b61a4d38",
   "metadata": {},
   "outputs": [
    {
     "data": {
      "text/plain": [
       "5-element Vector{Int64}:\n",
       " 1\n",
       " 7\n",
       " 3\n",
       " 7\n",
       " 5"
      ]
     },
     "execution_count": 82,
     "metadata": {},
     "output_type": "execute_result"
    }
   ],
   "source": [
    "F = [1;7;3;7;5]\n",
    "G = [2;3;4;5;6]\n",
    "\n",
    "i = findall(F.<1)\n",
    "F[i,:] = G[i,:]\n",
    "F"
   ]
  },
  {
   "cell_type": "code",
   "execution_count": null,
   "id": "29157dbd",
   "metadata": {},
   "outputs": [],
   "source": []
  },
  {
   "cell_type": "code",
   "execution_count": null,
   "id": "faaf74e2",
   "metadata": {},
   "outputs": [],
   "source": []
  },
  {
   "cell_type": "code",
   "execution_count": 106,
   "id": "e6e70f88",
   "metadata": {},
   "outputs": [
    {
     "data": {
      "text/plain": [
       "3×1 Matrix{Int64}:\n",
       " 1\n",
       " 2\n",
       " 5"
      ]
     },
     "execution_count": 106,
     "metadata": {},
     "output_type": "execute_result"
    }
   ],
   "source": [
    "a = [1;2;5;6;7;8; 100]\n",
    "\n",
    "m = median(a, dims=1)\n",
    "i = findall(a.<m)\n",
    "a = a[i,:]\n",
    "a"
   ]
  },
  {
   "cell_type": "code",
   "execution_count": null,
   "id": "f1998190",
   "metadata": {},
   "outputs": [],
   "source": []
  },
  {
   "cell_type": "code",
   "execution_count": null,
   "id": "c9150864",
   "metadata": {},
   "outputs": [],
   "source": []
  },
  {
   "cell_type": "code",
   "execution_count": null,
   "id": "03bf67c0",
   "metadata": {},
   "outputs": [],
   "source": []
  },
  {
   "cell_type": "code",
   "execution_count": 21,
   "id": "1c64f868",
   "metadata": {},
   "outputs": [
    {
     "data": {
      "text/plain": [
       "10-element Vector{Float64}:\n",
       " 0.4620759283534275\n",
       " 0.5282634680889071\n",
       " 0.37153475664255575\n",
       " 0.049577365959641906\n",
       " 0.09572026330794436\n",
       " 0.7552752802298031\n",
       " 0.9005182448760567\n",
       " 0.34092374562671623\n",
       " 0.7037032882226717\n",
       " 0.46077224932220395"
      ]
     },
     "execution_count": 21,
     "metadata": {},
     "output_type": "execute_result"
    }
   ],
   "source": [
    "x = rand(10)"
   ]
  },
  {
   "cell_type": "code",
   "execution_count": 29,
   "id": "b42f0d07",
   "metadata": {},
   "outputs": [
    {
     "data": {
      "text/plain": [
       "0.7140176866240979"
      ]
     },
     "execution_count": 29,
     "metadata": {},
     "output_type": "execute_result"
    }
   ],
   "source": [
    "q = quantile(x, (0:8)./length(x))\n",
    "q[9]"
   ]
  },
  {
   "cell_type": "code",
   "execution_count": 31,
   "id": "a57c9aec",
   "metadata": {},
   "outputs": [
    {
     "data": {
      "text/plain": [
       "8-element Vector{Int64}:\n",
       "  1\n",
       "  2\n",
       "  3\n",
       "  4\n",
       "  5\n",
       "  8\n",
       "  9\n",
       " 10"
      ]
     },
     "execution_count": 31,
     "metadata": {},
     "output_type": "execute_result"
    }
   ],
   "source": [
    "j = findall(x .<= q[9])"
   ]
  },
  {
   "cell_type": "code",
   "execution_count": null,
   "id": "e0335c5b",
   "metadata": {},
   "outputs": [],
   "source": []
  },
  {
   "cell_type": "code",
   "execution_count": null,
   "id": "929a7e9d",
   "metadata": {},
   "outputs": [],
   "source": []
  },
  {
   "cell_type": "code",
   "execution_count": 64,
   "id": "bdcdd05d",
   "metadata": {},
   "outputs": [
    {
     "name": "stdout",
     "output_type": "stream",
     "text": [
      "2×4 Matrix{Int64}:\n",
      " 1  2  3  4\n",
      " 2  3  4  5\n"
     ]
    },
    {
     "data": {
      "text/plain": [
       "0"
      ]
     },
     "execution_count": 64,
     "metadata": {},
     "output_type": "execute_result"
    }
   ],
   "source": [
    "A = [1 2 3 4; 2 3 4 5]\n",
    "show(stdout, \"text/plain\", A)\n",
    "print('\\n')\n",
    "B = 0"
   ]
  },
  {
   "cell_type": "code",
   "execution_count": null,
   "id": "297e013a",
   "metadata": {},
   "outputs": [],
   "source": []
  }
 ],
 "metadata": {
  "kernelspec": {
   "display_name": "Julia 1.6.2",
   "language": "julia",
   "name": "julia-1.6"
  },
  "language_info": {
   "file_extension": ".jl",
   "mimetype": "application/julia",
   "name": "julia",
   "version": "1.6.2"
  }
 },
 "nbformat": 4,
 "nbformat_minor": 5
}
