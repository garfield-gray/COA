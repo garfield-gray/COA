{
 "cells": [
  {
   "cell_type": "code",
   "execution_count": null,
   "id": "ec7b6e3b",
   "metadata": {},
   "outputs": [],
   "source": []
  },
  {
   "cell_type": "code",
   "execution_count": 7,
   "id": "d1927a27",
   "metadata": {},
   "outputs": [],
   "source": [
    "using IntervalArithmetic\n",
    "using LinearAlgebra\n",
    "using Distributions"
   ]
  },
  {
   "cell_type": "code",
   "execution_count": 2,
   "id": "dd496b88",
   "metadata": {},
   "outputs": [],
   "source": [
    "#first of all make two dimentional without constrain(to show the angle things)\n",
    "#then make n dimentional (define bitewise functions)\n",
    "#then add constrains (solve the desired problems)"
   ]
  },
  {
   "cell_type": "code",
   "execution_count": 3,
   "id": "805bcc0b",
   "metadata": {},
   "outputs": [
    {
     "data": {
      "text/plain": [
       "f1 (generic function with 1 method)"
      ]
     },
     "execution_count": 3,
     "metadata": {},
     "output_type": "execute_result"
    }
   ],
   "source": [
    "#obj_func     this function takes Nvar*Npop & spits out Fpop*1\n",
    "function f1(x)\n",
    "    return x[:,1].^2+x[:,2].^2\n",
    "end"
   ]
  },
  {
   "cell_type": "code",
   "execution_count": 38,
   "id": "e8dd9983",
   "metadata": {},
   "outputs": [
    {
     "data": {
      "text/plain": [
       "117×2 Matrix{Float64}:\n",
       " -2.39418  -2.21757\n",
       " -2.50711  -2.02567\n",
       " -2.58594  -2.15771\n",
       " -2.60024  -2.21238\n",
       " -2.45315  -2.06601\n",
       " -2.47585  -2.00364\n",
       " -2.4423   -2.0352\n",
       " -2.25061  -2.01961\n",
       " -2.4722   -1.78655\n",
       " -2.38397  -1.83832\n",
       " -2.22841  -1.82569\n",
       " -2.45972  -1.93352\n",
       " -2.39977  -1.86965\n",
       "  ⋮        \n",
       " -2.10713  -1.79051\n",
       " -2.13065  -1.85105\n",
       " -2.281    -1.82114\n",
       " -2.17911  -2.04171\n",
       " -2.36987  -1.85434\n",
       " -2.28863  -1.96861\n",
       " -2.27455  -1.82587\n",
       " -2.26195  -1.82742\n",
       " -2.12979  -1.80217\n",
       " -2.34218  -1.88314\n",
       " -2.14419  -1.9782\n",
       " -2.27609  -2.03506"
      ]
     },
     "execution_count": 38,
     "metadata": {},
     "output_type": "execute_result"
    }
   ],
   "source": [
    "#in the name of God\n",
    "#Defining COA parameters\n",
    "Nvar = 2\n",
    "Npop = 10\n",
    "obj = f1\n",
    "Cons = 1.05                                    #Consentration of egg laying\n",
    "MAXGEN = 40                                    #maximum generations\n",
    "a11 = -5; a12 = 5; a21 = -5; a22 = 5;          #limits\n",
    "A = IntervalBox(a11..a12, a21..a22)            #the region\n",
    "###############################################################################################\n",
    "Current = rand(Uniform(0, 1), Npop, Nvar)      #Genesis\n",
    "Current *= Diagonal([(a12-a11);(a22-a21)])     #stretching it\n",
    "Current += repeat([a11 a21], Npop, 1)          #putting it in place\n",
    "\n",
    "f = obj(Current)\n",
    "\n",
    "eggnum = trunc.(Int, rand(Normal(12, 4), Npop))\n",
    "\n",
    "for i in 1:MAXGEN                                                    #for each generation\n",
    "    Next = rand(1, Nvar); Next = Next[1:end .!=1,:]                  #preparing the next Gen & makin it empty                    \n",
    "    eggnum = trunc.(Int, rand(Normal(12, 4), Npop))                  #eggs each cuckoo lays\n",
    "    for j in 1:Npop                                                  #for each bird   \n",
    "        offsprings = repeat(Current[j,:]',eggnum[j],1)               #make the potential eggs\n",
    "        movements = rand(Uniform(-1, 1), eggnum[j], Nvar)            #make movements\n",
    "        movements *= (Diagonal([(a12-a11);(a22-a21)])./(Npop*Cons^i))#stretch\n",
    "        offsprings += movements                                      #put them inplace\n",
    "        #dismiss (pushing out of nest) update Npop\n",
    "        Next = [Next; offsprings]\n",
    "    end\n",
    "    #overall dismiss + update Npop\n",
    "    #find best\n",
    "    for j in 1:Npop\n",
    "        #migration toward the best (with radius)\n",
    "    end\n",
    "    Current = Next\n",
    "end\n",
    "Current\n",
    "#report the best"
   ]
  },
  {
   "cell_type": "code",
   "execution_count": null,
   "id": "10d342d0",
   "metadata": {},
   "outputs": [],
   "source": []
  },
  {
   "cell_type": "code",
   "execution_count": 39,
   "id": "365eafe1",
   "metadata": {},
   "outputs": [
    {
     "data": {
      "text/plain": [
       "10×2 Matrix{Float64}:\n",
       " -1.53629   -1.62456\n",
       "  3.98709    3.71947\n",
       "  3.86938   -0.680247\n",
       "  4.66328   -3.96716\n",
       "  0.287199  -1.2435\n",
       "  1.95263   -2.5915\n",
       " -3.47411    0.625587\n",
       "  4.58981    4.4426\n",
       " -4.57336    1.274\n",
       "  0.375814   3.03409"
      ]
     },
     "execution_count": 39,
     "metadata": {},
     "output_type": "execute_result"
    }
   ],
   "source": [
    "Current = rand(Uniform(0, 1), Npop, Nvar)      #Genesis\n",
    "Current *= Diagonal([(a12-a11);(a22-a21)])     #stretching it\n",
    "Current += repeat([a11 a21], Npop, 1) "
   ]
  },
  {
   "cell_type": "code",
   "execution_count": 25,
   "id": "324ea39b",
   "metadata": {},
   "outputs": [
    {
     "data": {
      "text/plain": [
       "true"
      ]
     },
     "execution_count": 25,
     "metadata": {},
     "output_type": "execute_result"
    }
   ],
   "source": [
    "in([0;1], A)"
   ]
  },
  {
   "cell_type": "code",
   "execution_count": 26,
   "id": "4f7239a6",
   "metadata": {},
   "outputs": [
    {
     "data": {
      "text/plain": [
       "10.0"
      ]
     },
     "execution_count": 26,
     "metadata": {},
     "output_type": "execute_result"
    }
   ],
   "source": [
    "diam(A)"
   ]
  },
  {
   "cell_type": "code",
   "execution_count": 17,
   "id": "b61a4d38",
   "metadata": {},
   "outputs": [
    {
     "data": {
      "text/plain": [
       "4-element Vector{Int64}:\n",
       " 1\n",
       " 3\n",
       " 4\n",
       " 5"
      ]
     },
     "execution_count": 17,
     "metadata": {},
     "output_type": "execute_result"
    }
   ],
   "source": [
    "i = findall([1;7;3;4;5].<[2;3;4;5;6])"
   ]
  },
  {
   "cell_type": "code",
   "execution_count": null,
   "id": "29157dbd",
   "metadata": {},
   "outputs": [],
   "source": []
  },
  {
   "cell_type": "code",
   "execution_count": 17,
   "id": "b15945cb",
   "metadata": {},
   "outputs": [
    {
     "data": {
      "text/plain": [
       "4×3 Matrix{Int64}:\n",
       " 1  2  3\n",
       " 1  2  3\n",
       " 1  2  3\n",
       " 1  2  3"
      ]
     },
     "execution_count": 17,
     "metadata": {},
     "output_type": "execute_result"
    }
   ],
   "source": [
    "e = repeat([1 2 3],4,1)"
   ]
  },
  {
   "cell_type": "code",
   "execution_count": 18,
   "id": "e605827e",
   "metadata": {},
   "outputs": [
    {
     "data": {
      "text/plain": [
       "4×3 Matrix{Int64}:\n",
       " 1  6  3\n",
       " 1  6  3\n",
       " 1  6  3\n",
       " 1  6  3"
      ]
     },
     "execution_count": 18,
     "metadata": {},
     "output_type": "execute_result"
    }
   ],
   "source": [
    "f = repeat([1 6 3],4,1)"
   ]
  },
  {
   "cell_type": "code",
   "execution_count": 19,
   "id": "9a33ffa8",
   "metadata": {},
   "outputs": [
    {
     "data": {
      "text/plain": [
       "4×3 Matrix{Int64}:\n",
       " 2  8  6\n",
       " 2  8  6\n",
       " 2  8  6\n",
       " 2  8  6"
      ]
     },
     "execution_count": 19,
     "metadata": {},
     "output_type": "execute_result"
    }
   ],
   "source": [
    "e  += f"
   ]
  },
  {
   "cell_type": "code",
   "execution_count": 20,
   "id": "3a7d9a4e",
   "metadata": {},
   "outputs": [
    {
     "data": {
      "text/plain": [
       "8×3 Matrix{Int64}:\n",
       " 2  8  6\n",
       " 2  8  6\n",
       " 2  8  6\n",
       " 2  8  6\n",
       " 1  6  3\n",
       " 1  6  3\n",
       " 1  6  3\n",
       " 1  6  3"
      ]
     },
     "execution_count": 20,
     "metadata": {},
     "output_type": "execute_result"
    }
   ],
   "source": [
    "e = [e;f]"
   ]
  },
  {
   "cell_type": "code",
   "execution_count": 23,
   "id": "116e8e84",
   "metadata": {},
   "outputs": [
    {
     "data": {
      "text/plain": [
       "1×4 Matrix{Float64}:\n",
       " 1.0  2.0  3.0  4.0"
      ]
     },
     "execution_count": 23,
     "metadata": {},
     "output_type": "execute_result"
    }
   ],
   "source": [
    "Next = rand(1, 4);Next = Next[1:end .!=1,:]                              #& makin it empty\n",
    "Next = [Next; [1 2 3 4]] \n"
   ]
  },
  {
   "cell_type": "code",
   "execution_count": 31,
   "id": "6297fb55",
   "metadata": {},
   "outputs": [
    {
     "data": {
      "text/plain": [
       "12×2 Matrix{Float64}:\n",
       " -0.363539   0.759633\n",
       " -0.844981  -0.48812\n",
       " -0.92862   -0.704607\n",
       "  0.991515  -0.75962\n",
       " -0.328323  -0.554107\n",
       " -0.562261   0.938377\n",
       " -0.943198   0.933149\n",
       "  0.658168   0.227261\n",
       "  0.632102  -0.040109\n",
       "  0.909279  -0.859719\n",
       "  0.832918  -0.693321\n",
       "  0.885365  -0.560923"
      ]
     },
     "execution_count": 31,
     "metadata": {},
     "output_type": "execute_result"
    }
   ],
   "source": [
    "movements = rand(Uniform(-1, 1), eggnum[5], Nvar)"
   ]
  },
  {
   "cell_type": "code",
   "execution_count": 10,
   "id": "7aaeee9f",
   "metadata": {},
   "outputs": [
    {
     "data": {
      "text/plain": [
       "10×4 Matrix{Float64}:\n",
       "  1.13985   1.94417  4.30264   5.71009\n",
       "  3.46099   4.39083  4.302     4.95964\n",
       "  2.83649   3.84464  3.79909   8.95864\n",
       "  2.83185   7.5981   7.12371   5.19309\n",
       " -3.2003    3.21839  5.35573   3.09999\n",
       "  2.69028   3.17611  3.49069   1.99615\n",
       " -0.180602  5.41779  7.29365   5.37901\n",
       "  0.21584   9.36097  5.0526    2.66333\n",
       " -4.55512   6.86408  6.094     0.871325\n",
       "  4.45718   9.47543  3.09673  -0.338428"
      ]
     },
     "execution_count": 10,
     "metadata": {},
     "output_type": "execute_result"
    }
   ],
   "source": [
    "t = rand(Uniform(0, 1), 10, 4)      #Genesis\n",
    "t *= Diagonal([(5+5);(10-0);(8-2);(10+1)])\n",
    "t += repeat([-5 0 2 -1], 10,1)"
   ]
  },
  {
   "cell_type": "code",
   "execution_count": 34,
   "id": "abc357d4",
   "metadata": {},
   "outputs": [
    {
     "name": "stdout",
     "output_type": "stream",
     "text": [
      "[0.7102284115013883 0.0 0.0 0.0; 0.0 0.7102284115013883 0.0 0.0; 0.0 0.0 0.426137046900833 0.0; 0.0 0.0 0.0 0.7812512526515271]"
     ]
    }
   ],
   "source": [
    "print(Diagonal([(5+5);(10-0);(8-2);(10+1)])./(2*1.05^40))"
   ]
  },
  {
   "cell_type": "code",
   "execution_count": 22,
   "id": "b91c7a51",
   "metadata": {},
   "outputs": [
    {
     "data": {
      "text/plain": [
       "4.321942375150668"
      ]
     },
     "execution_count": 22,
     "metadata": {},
     "output_type": "execute_result"
    }
   ],
   "source": [
    "1.05^30"
   ]
  },
  {
   "cell_type": "code",
   "execution_count": null,
   "id": "bdcdd05d",
   "metadata": {},
   "outputs": [],
   "source": []
  }
 ],
 "metadata": {
  "kernelspec": {
   "display_name": "Julia 1.6.2",
   "language": "julia",
   "name": "julia-1.6"
  },
  "language_info": {
   "file_extension": ".jl",
   "mimetype": "application/julia",
   "name": "julia",
   "version": "1.6.2"
  }
 },
 "nbformat": 4,
 "nbformat_minor": 5
}
