{
 "cells": [
  {
   "cell_type": "code",
   "execution_count": null,
   "id": "ec7b6e3b",
   "metadata": {},
   "outputs": [],
   "source": []
  },
  {
   "cell_type": "code",
   "execution_count": 1,
   "id": "d1927a27",
   "metadata": {},
   "outputs": [],
   "source": [
    "using IntervalArithmetic\n",
    "using LinearAlgebra\n",
    "using Distributions\n",
    "using Statistics\n",
    "using Plots"
   ]
  },
  {
   "cell_type": "code",
   "execution_count": 2,
   "id": "dd496b88",
   "metadata": {},
   "outputs": [],
   "source": [
    "#first of all make two dimentional without constrain(to show the angle things)   done (only debugging left) \n",
    "#then make n dimentional (define bitewise functions)\n",
    "#then add constrains (solve the desired problems)"
   ]
  },
  {
   "cell_type": "code",
   "execution_count": 3,
   "id": "805bcc0b",
   "metadata": {},
   "outputs": [
    {
     "data": {
      "text/plain": [
       "f1 (generic function with 1 method)"
      ]
     },
     "execution_count": 3,
     "metadata": {},
     "output_type": "execute_result"
    }
   ],
   "source": [
    "#obj_func     this function takes Nvar*Npop & spits out Fpop*1\n",
    "function f1(x)\n",
    "    return x[:,1].^2+x[:,2].^2\n",
    "end"
   ]
  },
  {
   "cell_type": "code",
   "execution_count": 66,
   "id": "e8dd9983",
   "metadata": {},
   "outputs": [
    {
     "name": "stdout",
     "output_type": "stream",
     "text": [
      "[-0.579 -1.008]\n",
      "[0.164 -0.12]\n",
      "[-0.094 0.274]\n",
      "[0.009 0.023]\n",
      "[-0.0 0.049]\n",
      "[0.003 0.096]\n",
      "[0.099 -0.02]\n",
      "[0.032 -0.023]\n",
      "[-0.027 -0.097]\n",
      "[0.01 -0.021]\n",
      "[-0.002 -0.008]\n",
      "[0.034 -0.025]\n",
      "[0.031 0.0]\n",
      "[-0.007 -0.046]\n",
      "[-0.027 0.014]\n",
      "[0.021 0.012]\n",
      "[-0.038 -0.015]\n",
      "[0.026 -0.054]\n",
      "[0.054 0.037]\n",
      "[0.032 -0.017]\n",
      "[0.024 -0.029]\n",
      "[-0.015 0.016]\n",
      "[0.05 -0.021]\n",
      "[-0.0 -0.002]\n",
      "[-0.01 -0.011]\n",
      "[0.018 0.008]\n",
      "[0.005 0.007]\n",
      "[-0.018 0.017]\n",
      "[-0.009 -0.021]\n",
      "[-0.019 0.01]\n",
      "[-0.043 0.005]\n",
      "[0.03 0.005]\n",
      "[0.005 -0.006]\n",
      "[-0.011 0.001]\n",
      "[-0.016 -0.005]\n",
      "[0.008 0.019]\n",
      "[-0.006 -0.005]\n",
      "[0.012 -0.01]\n",
      "[0.005 -0.017]\n",
      "[-0.026 0.0]\n",
      "[0.001 0.007]\n",
      "[0.001 -0.0]\n",
      "[0.001 0.003]\n",
      "[0.001 0.009]\n",
      "[0.012 0.001]\n",
      "[0.007 -0.004]\n",
      "[0.005 0.011]\n",
      "[0.003 -0.006]\n",
      "[0.006 -0.007]\n",
      "[-0.003 -0.011]\n",
      "[-0.011 -0.006]\n",
      "[-0.005 0.003]\n",
      "[-0.005 0.003]\n",
      "[-0.004 0.001]\n",
      "[-0.002 -0.002]\n",
      "[0.004 0.006]\n",
      "[-0.008 0.004]\n",
      "[-0.001 0.0]\n",
      "[0.004 0.001]\n",
      "[-0.001 0.007]\n",
      "[0.006 -0.0]\n",
      "[-0.0 -0.004]\n",
      "[-0.001 0.005]\n",
      "[-0.006 0.005]\n",
      "[-0.002 0.002]\n",
      "[-0.003 0.001]\n",
      "[-0.003 0.001]\n",
      "[-0.002 -0.004]\n",
      "[0.001 0.003]\n",
      "[-0.0 0.001]\n",
      "[0.0 -0.002]\n",
      "[0.002 0.0]\n",
      "[0.0 0.001]\n",
      "[0.001 0.003]\n",
      "[-0.001 -0.001]\n",
      "[0.002 0.001]\n",
      "[-0.001 0.002]\n",
      "[-0.001 -0.001]\n",
      "[0.002 0.003]\n",
      "[-0.002 -0.002]\n",
      "[0.004 -0.001]\n",
      "[-0.0 0.001]\n",
      "[0.001 0.001]\n",
      "[0.002 -0.001]\n",
      "[0.002 -0.0]\n",
      "[0.0 -0.0]\n",
      "[-0.001 0.0]\n",
      "[0.0 0.0]\n",
      "[0.0 0.001]\n",
      "[-0.0 -0.001]\n",
      "[-0.001 -0.001]\n",
      "[0.0 0.001]\n",
      "[-0.0 0.001]\n",
      "[0.001 0.0]\n",
      "[-0.0 -0.0]\n",
      "[0.0 -0.0]\n",
      "[0.0 -0.0]\n",
      "[0.001 0.001]\n",
      "[0.0 0.0]\n",
      "[0.0 0.0]\n"
     ]
    }
   ],
   "source": [
    "#in the name of God\n",
    "#Defining COA parameters\n",
    "Nvar = 2\n",
    "Npop = 10\n",
    "obj = f1\n",
    "Cons = 1.05                                    #Consentration of egg laying\n",
    "MAXGEN = 100                                    #maximum generations\n",
    "a11 = -5; a12 = 5; a21 = -5; a22 = 5;          #limits\n",
    "A = IntervalBox(a11..a12, a21..a22)            #the region\n",
    "###############################################################################################\n",
    "Current = rand(Uniform(0, 1), Npop, Nvar)      #Genesis\n",
    "Current *= Diagonal([(a12-a11);(a22-a21)])     #stretching it\n",
    "Current += repeat([a11 a21], Npop, 1)          #putting it in place\n",
    "\n",
    "flag = 0\n",
    "\n",
    "for i in 1:MAXGEN                                                    #for each generation\n",
    "    Next = rand(1, Nvar); Next = Next[1:end .!=1,:];                 #preparing the next Gen & makin it empty\n",
    "    eggnum = abs.(ceil.(Int, rand(Normal(11, 4), Npop))).+1              #eggs each cuckoo lays(it could make 0|-)\n",
    "    for j in 1:Npop                                                      #for each bird   \n",
    "        offsprings = repeat(Current[j,:]',eggnum[j],1)                   #make the potential eggs\n",
    "        movements = rand(Uniform(-1, 1), eggnum[j], Nvar)                #make movements\n",
    "        movements *= (Diagonal([(a12-a11);(a22-a21)])./(Npop*Cons^i))    #stretch\n",
    "        offsprings += movements                                          #put them inplace\n",
    "        profit = obj(offsprings)                                         #evaluation\n",
    "        m = median(profit, dims=1)                                       #find meadian\n",
    "        index = findall(profit.<m)                                       #find vulnerables\n",
    "        offsprings = offsprings[index,:]                                 #dismiss them\n",
    "        Next = [Next; offsprings]                                        #push them into the Next Gen\n",
    "    end\n",
    "    N, o = size(Next)                                                #finding size of new population\n",
    "    value = obj(Next)                                                #overall evaluation\n",
    "    bestind = argmin(value)                                          #finding the index of the best\n",
    "    best = Next[bestind,:]'\n",
    "    migdes = Next - repeat(best, N , 1)                              #destination of migration\n",
    "    v = Diagonal(rand(N))*migdes                                     #not all of them make it to the best\n",
    "    Next = Next + v                                                  #migration\n",
    "    q = quantile(value, (1:Npop)./length(value))                     #best Npop's\n",
    "    bestNpopind = findall(value .<= q[Npop])                         #their indices\n",
    "    Next = Next[bestNpopind,:]                                       #dismiss to the Npop\n",
    "    print(round.(best, digits = 3))\n",
    "    print('\\n')\n",
    "    Current = Next                                                   #regenerating\n",
    "end\n",
    "#report the best"
   ]
  },
  {
   "cell_type": "code",
   "execution_count": null,
   "id": "1985bac8",
   "metadata": {},
   "outputs": [],
   "source": []
  },
  {
   "cell_type": "code",
   "execution_count": 13,
   "id": "324ea39b",
   "metadata": {},
   "outputs": [
    {
     "data": {
      "text/plain": [
       "true"
      ]
     },
     "execution_count": 13,
     "metadata": {},
     "output_type": "execute_result"
    }
   ],
   "source": [
    "\n",
    "in([0;1], A)"
   ]
  },
  {
   "cell_type": "code",
   "execution_count": 14,
   "id": "4f7239a6",
   "metadata": {},
   "outputs": [
    {
     "data": {
      "text/plain": [
       "10.0"
      ]
     },
     "execution_count": 14,
     "metadata": {},
     "output_type": "execute_result"
    }
   ],
   "source": [
    "diam(A)"
   ]
  },
  {
   "cell_type": "code",
   "execution_count": 42,
   "id": "29157dbd",
   "metadata": {},
   "outputs": [
    {
     "data": {
      "text/plain": [
       "3"
      ]
     },
     "execution_count": 42,
     "metadata": {},
     "output_type": "execute_result"
    }
   ],
   "source": [
    "abs(-3)"
   ]
  },
  {
   "cell_type": "code",
   "execution_count": 65,
   "id": "faaf74e2",
   "metadata": {},
   "outputs": [
    {
     "data": {
      "text/plain": [
       "1×2 Matrix{Float64}:\n",
       " 3.7  3.6"
      ]
     },
     "execution_count": 65,
     "metadata": {},
     "output_type": "execute_result"
    }
   ],
   "source": [
    "round.([3.666666 3.555], digits = 1)"
   ]
  },
  {
   "cell_type": "code",
   "execution_count": null,
   "id": "929a7e9d",
   "metadata": {},
   "outputs": [],
   "source": []
  },
  {
   "cell_type": "code",
   "execution_count": 64,
   "id": "bdcdd05d",
   "metadata": {},
   "outputs": [
    {
     "name": "stdout",
     "output_type": "stream",
     "text": [
      "2×4 Matrix{Int64}:\n",
      " 1  2  3  4\n",
      " 2  3  4  5\n"
     ]
    },
    {
     "data": {
      "text/plain": [
       "0"
      ]
     },
     "execution_count": 64,
     "metadata": {},
     "output_type": "execute_result"
    }
   ],
   "source": [
    "A = [1 2 3 4; 2 3 4 5]\n",
    "show(stdout, \"text/plain\", A)\n",
    "print('\\n')\n",
    "B = 0"
   ]
  },
  {
   "cell_type": "code",
   "execution_count": null,
   "id": "297e013a",
   "metadata": {},
   "outputs": [],
   "source": []
  },
  {
   "cell_type": "code",
   "execution_count": null,
   "id": "ee8fa6f0",
   "metadata": {},
   "outputs": [],
   "source": []
  },
  {
   "cell_type": "code",
   "execution_count": 49,
   "id": "89636a02",
   "metadata": {},
   "outputs": [
    {
     "data": {
      "text/plain": [
       "1×3 Matrix{Int64}:\n",
       " 1  233  4"
      ]
     },
     "execution_count": 49,
     "metadata": {},
     "output_type": "execute_result"
    }
   ],
   "source": [
    "offsprings = repeat([1 233 4],abs(0)+1,1)"
   ]
  },
  {
   "cell_type": "code",
   "execution_count": 55,
   "id": "5075cffd",
   "metadata": {},
   "outputs": [
    {
     "data": {
      "text/plain": [
       "40-element Vector{Int64}:\n",
       " 13\n",
       " 17\n",
       " 18\n",
       " 19\n",
       " 26\n",
       " 15\n",
       " 19\n",
       " 21\n",
       " 14\n",
       "  7\n",
       " 13\n",
       " 16\n",
       " 21\n",
       "  ⋮\n",
       "  7\n",
       " 11\n",
       " 18\n",
       " 10\n",
       " 13\n",
       " 14\n",
       " 11\n",
       "  9\n",
       "  9\n",
       "  8\n",
       " 15\n",
       " 21"
      ]
     },
     "execution_count": 55,
     "metadata": {},
     "output_type": "execute_result"
    }
   ],
   "source": [
    "eggnum = abs.(ceil.(Int, rand(Normal(12, 4), 40))).+1"
   ]
  },
  {
   "cell_type": "code",
   "execution_count": 27,
   "id": "1c01f881",
   "metadata": {},
   "outputs": [
    {
     "data": {
      "text/plain": [
       "1×2 Matrix{Float64}:\n",
       " 2.0  4.0"
      ]
     },
     "execution_count": 27,
     "metadata": {},
     "output_type": "execute_result"
    }
   ],
   "source": [
    "ceil.([1.2 3.4])"
   ]
  },
  {
   "cell_type": "code",
   "execution_count": 29,
   "id": "732719ca",
   "metadata": {},
   "outputs": [
    {
     "ename": "LoadError",
     "evalue": "MethodError: no method matching similar(::Matrix{Int64}, ::Float64, ::Int64)\n\u001b[0mClosest candidates are:\n\u001b[0m  similar(::AbstractArray, \u001b[91m::Type{T}\u001b[39m, ::Union{Integer, AbstractUnitRange}...) where T at abstractarray.jl:742\n\u001b[0m  similar(::AbstractArray{T, N} where N, \u001b[91m::Union{Integer, AbstractUnitRange}...\u001b[39m) where T at abstractarray.jl:741\n\u001b[0m  similar(\u001b[91m::StructArrays.StructArray\u001b[39m, \u001b[91m::Union{Integer, AbstractUnitRange}...\u001b[39m) at /home/garfield/.julia/packages/StructArrays/MdA9B/src/structarray.jl:283\n\u001b[0m  ...",
     "output_type": "error",
     "traceback": [
      "MethodError: no method matching similar(::Matrix{Int64}, ::Float64, ::Int64)\n\u001b[0mClosest candidates are:\n\u001b[0m  similar(::AbstractArray, \u001b[91m::Type{T}\u001b[39m, ::Union{Integer, AbstractUnitRange}...) where T at abstractarray.jl:742\n\u001b[0m  similar(::AbstractArray{T, N} where N, \u001b[91m::Union{Integer, AbstractUnitRange}...\u001b[39m) where T at abstractarray.jl:741\n\u001b[0m  similar(\u001b[91m::StructArrays.StructArray\u001b[39m, \u001b[91m::Union{Integer, AbstractUnitRange}...\u001b[39m) at /home/garfield/.julia/packages/StructArrays/MdA9B/src/structarray.jl:283\n\u001b[0m  ...",
      "",
      "Stacktrace:",
      " [1] repeat_outer(a::Matrix{Int64}, ::Tuple{Float64, Int64})",
      "   @ Base._RepeatInnerOuter ./abstractarraymath.jl:333",
      " [2] repeat_inner_outer(arr::Matrix{Int64}, #unused#::Nothing, outer::Tuple{Float64, Int64})",
      "   @ Base._RepeatInnerOuter ./abstractarraymath.jl:327",
      " [3] repeat(arr::Matrix{Int64}; inner::Nothing, outer::Tuple{Float64, Int64})",
      "   @ Base._RepeatInnerOuter ./abstractarraymath.jl:269",
      " [4] repeat(::Matrix{Int64}, ::Float64, ::Int64)",
      "   @ Base ./abstractarraymath.jl:224",
      " [5] top-level scope",
      "   @ In[29]:1",
      " [6] eval",
      "   @ ./boot.jl:360 [inlined]",
      " [7] include_string(mapexpr::typeof(REPL.softscope), mod::Module, code::String, filename::String)",
      "   @ Base ./loading.jl:1116"
     ]
    }
   ],
   "source": [
    "offsprings = repeat([1 233 4],eggnum[3],1)"
   ]
  },
  {
   "cell_type": "code",
   "execution_count": null,
   "id": "5c7cdbd2",
   "metadata": {},
   "outputs": [],
   "source": []
  }
 ],
 "metadata": {
  "kernelspec": {
   "display_name": "Julia 1.6.2",
   "language": "julia",
   "name": "julia-1.6"
  },
  "language_info": {
   "file_extension": ".jl",
   "mimetype": "application/julia",
   "name": "julia",
   "version": "1.6.2"
  }
 },
 "nbformat": 4,
 "nbformat_minor": 5
}
