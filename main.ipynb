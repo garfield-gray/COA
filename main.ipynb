{
 "cells": [
  {
   "cell_type": "code",
   "execution_count": null,
   "id": "ec7b6e3b",
   "metadata": {},
   "outputs": [],
   "source": []
  },
  {
   "cell_type": "code",
   "execution_count": 7,
   "id": "d1927a27",
   "metadata": {},
   "outputs": [],
   "source": [
    "using IntervalArithmetic\n",
    "using LinearAlgebra\n",
    "using Distributions\n",
    "using Plots"
   ]
  },
  {
   "cell_type": "code",
   "execution_count": 2,
   "id": "dd496b88",
   "metadata": {},
   "outputs": [],
   "source": [
    "#first of all make two dimentional without constrain(to show the angle things)\n",
    "#then make n dimentional (define bitewise functions)\n",
    "#then add constrains (solve the desired problems)"
   ]
  },
  {
   "cell_type": "code",
   "execution_count": 3,
   "id": "805bcc0b",
   "metadata": {},
   "outputs": [
    {
     "data": {
      "text/plain": [
       "f1 (generic function with 1 method)"
      ]
     },
     "execution_count": 3,
     "metadata": {},
     "output_type": "execute_result"
    }
   ],
   "source": [
    "#obj_func     this function takes Nvar*Npop & spits out Fpop*1\n",
    "function f1(x)\n",
    "    return x[:,1].^2+x[:,2].^2\n",
    "end"
   ]
  },
  {
   "cell_type": "code",
   "execution_count": 74,
   "id": "e8dd9983",
   "metadata": {},
   "outputs": [
    {
     "name": "stdout",
     "output_type": "stream",
     "text": [
      "20×2 Matrix{Float64}:\n",
      "  1.41756   -4.93211\n",
      "  0.128103  -2.06764\n",
      " -1.11374   -2.08354\n",
      " -1.51569    0.771916\n",
      " -4.47831    3.32703\n",
      "  0.218352  -0.472514\n",
      "  1.79794   -3.37054\n",
      "  0.489355   3.18249\n",
      "  2.43561   -3.32216\n",
      " -3.95945   -1.18702\n",
      "  0.763047   0.882843\n",
      " -2.06709    4.96108\n",
      " -1.54983   -4.636\n",
      " -1.36288   -1.18379\n",
      " -2.22011    1.35936\n",
      " -0.289362  -0.420764\n",
      "  3.8778     3.72162\n",
      "  0.45952   -3.2572\n",
      " -0.504231   1.37573\n",
      " -4.9216     4.11818\n",
      "227×2 Matrix{Float64}:\n",
      "  1.53305    -4.98273\n",
      "  1.3992     -4.6156\n",
      "  1.57603    -4.66443\n",
      "  1.65196    -5.38902\n",
      "  1.88226    -5.03559\n",
      "  1.39119    -4.69786\n",
      "  1.75232    -4.86295\n",
      "  1.30401    -4.74682\n",
      "  1.14889    -5.07763\n",
      "  1.55356    -4.82656\n",
      "  1.54147    -5.33264\n",
      "  0.52882    -1.88861\n",
      " -0.0955912  -1.84336\n",
      "  0.0844403  -1.82322\n",
      "  0.289483   -2.40965\n",
      " -0.137036   -1.60352\n",
      "  0.175376   -1.82368\n",
      " -0.169276   -2.37988\n",
      " -0.172572   -2.29574\n",
      " -0.0439842  -2.41207\n",
      "  0.373525   -2.49229\n",
      " -0.164413   -1.6727\n",
      " -0.0748075  -2.26244\n",
      " -0.227309   -2.48637\n",
      " -0.259596   -1.65626\n",
      " -1.24164    -1.99099\n",
      " -0.724877   -2.25982\n",
      " -0.658363   -2.24157\n",
      " -0.810508   -2.46986\n",
      " -1.3642     -1.65073\n",
      " -0.673275   -1.82062\n",
      " -1.30026    -1.81374\n",
      " -1.49986    -1.84034\n",
      " -0.958379   -2.07504\n",
      " -0.735899   -2.22807\n",
      " -1.28558    -2.02768\n",
      " -1.06456    -2.08887\n",
      " -1.40103    -2.48058\n",
      " -1.10308    -2.18068\n",
      " -1.14524    -2.31746\n",
      " -0.722593   -2.17401\n",
      " -1.25357    -1.90166\n",
      " -1.77959     0.666458\n",
      " -1.16156     0.493002\n",
      " -1.79261     0.3685\n",
      " -1.19997     0.589894\n",
      " -1.41452     0.379426\n",
      " -1.38814     1.12339\n",
      " -1.89612     0.898473\n",
      " -1.36268     0.530496\n",
      " -1.18827     1.05369\n",
      " -4.78043     3.56217\n",
      " -4.08672     3.64008\n",
      " -4.45736     3.45466\n",
      " -4.51468     3.27141\n",
      " -4.50215     2.88836\n",
      " -4.13081     3.59092\n",
      " -4.65216     2.98314\n",
      " -4.62873     3.72058\n",
      " -4.92326     3.57479\n",
      " -4.56451     2.86328\n",
      " -4.70935     3.6015\n",
      " -4.63205     3.68254\n",
      " -4.18036     3.46325\n",
      " -4.60359     3.78361\n",
      "  0.471153   -0.455175\n",
      " -0.172368   -0.0577266\n",
      " -0.20695    -0.526141\n",
      "  0.138624   -0.0442255\n",
      " -0.233583   -0.753987\n",
      "  0.557898   -0.658018\n",
      "  0.403485   -0.670495\n",
      " -0.0960109  -0.841761\n",
      "  0.556696   -0.5232\n",
      "  0.108285   -0.773152\n",
      " -0.0775666  -0.157247\n",
      "  2.1981     -3.13575\n",
      "  1.91246    -3.78847\n",
      "  1.53249    -3.81325\n",
      "  1.50206    -3.52657\n",
      "  2.04654    -2.95024\n",
      "  1.8592     -3.3595\n",
      "  1.4205     -3.44296\n",
      "  0.328138    3.33908\n",
      "  0.0381647   2.96889\n",
      "  0.574497    2.85662\n",
      "  0.617162    3.61385\n",
      "  0.256954    3.50761\n",
      "  0.531748    2.83862\n",
      "  0.0900678   3.24921\n",
      "  0.335184    3.16718\n",
      "  0.637136    3.4255\n",
      "  0.555959    3.44425\n",
      "  0.412121    2.96254\n",
      "  0.945114    3.49162\n",
      "  0.897134    2.92306\n",
      "  2.26635    -3.59553\n",
      "  2.56566    -3.04582\n",
      "  2.83413    -3.16942\n",
      "  2.69289    -3.35323\n",
      "  2.61589    -3.35711\n",
      "  2.68375    -3.62678\n",
      "  1.99862    -3.26345\n",
      "  2.6681     -2.92818\n",
      "  2.61744    -2.89925\n",
      "  2.03067    -3.24132\n",
      "  2.8749     -3.47007\n",
      "  2.74979    -3.54244\n",
      " -3.6167     -0.733048\n",
      " -3.89907    -0.967864\n",
      " -3.685      -1.17434\n",
      " -3.57644    -1.10079\n",
      " -4.24948    -1.45259\n",
      " -3.93887    -1.24145\n",
      " -4.28422    -1.37879\n",
      " -3.50052    -1.00102\n",
      " -3.69943    -1.3218\n",
      " -4.40968    -1.45702\n",
      " -3.98367    -0.989294\n",
      " -3.63571    -1.4758\n",
      " -4.18217    -1.02298\n",
      " -3.76037    -0.959286\n",
      "  0.546367    1.24364\n",
      "  1.21849     0.951037\n",
      "  0.444521    1.00131\n",
      "  0.698643    0.5864\n",
      "  0.311768    0.438692\n",
      "  1.12214     1.31699\n",
      "  0.547849    0.706517\n",
      " -1.99087     4.75741\n",
      " -2.13051     5.29806\n",
      " -2.33616     4.69209\n",
      " -2.45809     5.20363\n",
      " -2.26984     4.79006\n",
      " -1.92337     5.23042\n",
      " -1.89301     5.25178\n",
      " -2.46796     4.98003\n",
      " -2.06109     4.59478\n",
      " -1.28849    -4.33781\n",
      " -1.50974    -4.46224\n",
      " -1.61115    -4.76598\n",
      " -1.27772    -5.06197\n",
      " -1.77609    -4.19148\n",
      " -1.78552    -4.84709\n",
      " -1.23605    -4.5322\n",
      " -1.97701    -4.88538\n",
      " -1.8656     -4.30472\n",
      " -1.27909    -4.53502\n",
      " -1.1474     -4.3405\n",
      " -1.54805    -4.63406\n",
      " -1.601      -5.07929\n",
      " -0.92913    -0.848061\n",
      " -1.46103    -1.20996\n",
      " -1.19769    -1.61849\n",
      " -1.75368    -1.15606\n",
      " -1.20566    -0.775497\n",
      " -1.39887    -1.19264\n",
      " -1.36714    -1.27811\n",
      " -1.1183     -0.717551\n",
      " -1.33175    -1.32658\n",
      " -0.945231   -1.16153\n",
      " -1.20781    -1.42819\n",
      " -0.974305   -1.46886\n",
      " -1.83853    -1.34491\n",
      " -1.17297    -1.00901\n",
      " -2.37195     1.49883\n",
      " -2.66071     1.69405\n",
      " -2.14875     1.47467\n",
      " -2.35872     1.40711\n",
      " -1.84703     1.17413\n",
      " -1.80039     1.35132\n",
      " -1.89155     0.985112\n",
      " -0.172952    0.0135688\n",
      " -0.396659   -0.651825\n",
      " -0.480206   -0.373945\n",
      " -0.0956593   0.0338515\n",
      " -0.529949   -0.857958\n",
      " -0.322742   -0.234807\n",
      "  0.108013   -0.380723\n",
      " -0.360099   -0.860606\n",
      "  0.155522   -0.361693\n",
      " -0.679137   -0.781495\n",
      " -0.394477   -0.509823\n",
      "  4.25727     4.04414\n",
      "  3.48564     3.29043\n",
      "  3.50196     3.89585\n",
      "  3.68414     3.8452\n",
      "  3.6627      3.42136\n",
      "  4.18201     3.34281\n",
      "  3.56552     4.10626\n",
      "  4.28609     4.10889\n",
      "  4.31918     3.53092\n",
      "  4.03913     3.38723\n",
      "  4.24995     3.34081\n",
      "  4.2821      3.31536\n",
      "  3.44199     3.8653\n",
      "  3.40305     3.90544\n",
      "  3.64176     3.56667\n",
      "  3.67859     3.45213\n",
      "  0.0211016  -3.16\n",
      "  0.755286   -3.04957\n",
      "  0.744085   -2.94347\n",
      "  0.44143    -3.02815\n",
      "  0.557213   -3.19615\n",
      "  0.435427   -2.84874\n",
      "  0.693233   -2.8251\n",
      "  0.56364    -3.26028\n",
      "  0.763495   -3.03263\n",
      "  0.744008   -2.98099\n",
      "  0.74767    -3.61028\n",
      "  0.607502   -3.01174\n",
      "  0.252658   -2.8724\n",
      "  0.912352   -3.57127\n",
      " -0.0557217   1.10931\n",
      " -0.63866     1.59612\n",
      " -0.100317    0.913371\n",
      " -0.583562    1.62232\n",
      " -0.189572    1.67395\n",
      " -0.388121    1.45572\n",
      " -0.392702    1.19718\n",
      " -0.757527    1.4764\n",
      " -0.56711     1.70922\n",
      " -0.932287    1.60275\n",
      " -4.50747     4.4755\n",
      " -4.95607     4.54601\n",
      " -5.28007     4.476\n",
      " -5.30079     4.40736\n"
     ]
    }
   ],
   "source": [
    "#in the name of God\n",
    "#Defining COA parameters\n",
    "Nvar = 2\n",
    "Npop = 20\n",
    "obj = f1\n",
    "Cons = 1.05                                    #Consentration of egg laying\n",
    "MAXGEN = 40                                    #maximum generations\n",
    "a11 = -5; a12 = 5; a21 = -5; a22 = 5;          #limits\n",
    "A = IntervalBox(a11..a12, a21..a22)            #the region\n",
    "###############################################################################################\n",
    "Current = rand(Uniform(0, 1), Npop, Nvar)      #Genesis\n",
    "Current *= Diagonal([(a12-a11);(a22-a21)])     #stretching it\n",
    "Current += repeat([a11 a21], Npop, 1)          #putting it in place\n",
    "\n",
    "f = obj(Current)\n",
    "\n",
    "flag = 0\n",
    "\n",
    "for i in 1:MAXGEN                                                    #for each generation\n",
    "    Next = rand(1, Nvar); Next = Next[1:end .!=1,:];                 #preparing the next Gen & makin it empty                    \n",
    "    eggnum = trunc.(Int, rand(Normal(12, 4), Npop))                  #eggs each cuckoo lays\n",
    "    for j in 1:Npop                                                  #for each bird   \n",
    "        offsprings = repeat(Current[j,:]',eggnum[j],1)               #make the potential eggs\n",
    "        movements = rand(Uniform(-1, 1), eggnum[j], Nvar)            #make movements\n",
    "        movements *= (Diagonal([(a12-a11);(a22-a21)])./(Npop*Cons^i))#stretch\n",
    "        offsprings += movements                                      #put them inplace\n",
    "        #dismiss (pushing out of nest) update Npop\n",
    "        Next = [Next; offsprings] \n",
    "    end\n",
    "    if flag == 0\n",
    "        show(stdout, \"text/plain\", Current)\n",
    "        print('\\n')\n",
    "        show(stdout, \"text/plain\", Next)\n",
    "        print('\\n')\n",
    "        flag += 1\n",
    "    end\n",
    "    #overall dismiss + update Npop\n",
    "    #find best\n",
    "    #for j in 1:Npop\n",
    "    #    #migration toward the best (with radius)\n",
    "    #end\n",
    "    Current = Next\n",
    "end\n",
    "#report the best"
   ]
  },
  {
   "cell_type": "code",
   "execution_count": null,
   "id": "10d342d0",
   "metadata": {},
   "outputs": [],
   "source": []
  },
  {
   "cell_type": "code",
   "execution_count": 36,
   "id": "365eafe1",
   "metadata": {},
   "outputs": [
    {
     "data": {
      "text/plain": [
       "13-element Vector{Float64}:\n",
       " 0.40293737068453234\n",
       " 0.9301357476707202\n",
       " 0.7339199751168768\n",
       " 0.15861129770967877\n",
       " 0.14568139671958136\n",
       " 0.5709529120529389\n",
       " 0.17334030081527657\n",
       " 0.010494734980921093\n",
       " 0.5290575926572079\n",
       " 1.5909454686302038\n",
       " 0.783425245527844\n",
       " 0.2841762637048594\n",
       " 0.24941382629299041"
      ]
     },
     "execution_count": 36,
     "metadata": {},
     "output_type": "execute_result"
    }
   ],
   "source": [
    "offsprings = repeat([0 0],13,1)               #make the potential eggs\n",
    "movements = rand(Uniform(-1, 1), 13, Nvar)            #make movements\n",
    "movements *= (Diagonal([(a12-a11);(a22-a21)])./(10))#stretch\n",
    "offsprings += movements \n",
    "obj(offsprings)"
   ]
  },
  {
   "cell_type": "code",
   "execution_count": 25,
   "id": "324ea39b",
   "metadata": {},
   "outputs": [
    {
     "data": {
      "text/plain": [
       "true"
      ]
     },
     "execution_count": 25,
     "metadata": {},
     "output_type": "execute_result"
    }
   ],
   "source": [
    "\n",
    "in([0;1], A)"
   ]
  },
  {
   "cell_type": "code",
   "execution_count": 26,
   "id": "4f7239a6",
   "metadata": {},
   "outputs": [
    {
     "data": {
      "text/plain": [
       "10.0"
      ]
     },
     "execution_count": 26,
     "metadata": {},
     "output_type": "execute_result"
    }
   ],
   "source": [
    "diam(A)"
   ]
  },
  {
   "cell_type": "code",
   "execution_count": 17,
   "id": "b61a4d38",
   "metadata": {},
   "outputs": [
    {
     "data": {
      "text/plain": [
       "4-element Vector{Int64}:\n",
       " 1\n",
       " 3\n",
       " 4\n",
       " 5"
      ]
     },
     "execution_count": 17,
     "metadata": {},
     "output_type": "execute_result"
    }
   ],
   "source": [
    "i = findall([1;7;3;4;5].<[2;3;4;5;6])"
   ]
  },
  {
   "cell_type": "code",
   "execution_count": null,
   "id": "29157dbd",
   "metadata": {},
   "outputs": [],
   "source": []
  },
  {
   "cell_type": "code",
   "execution_count": 17,
   "id": "b15945cb",
   "metadata": {},
   "outputs": [
    {
     "data": {
      "text/plain": [
       "4×3 Matrix{Int64}:\n",
       " 1  2  3\n",
       " 1  2  3\n",
       " 1  2  3\n",
       " 1  2  3"
      ]
     },
     "execution_count": 17,
     "metadata": {},
     "output_type": "execute_result"
    }
   ],
   "source": [
    "e = repeat([1 2 3],4,1)"
   ]
  },
  {
   "cell_type": "code",
   "execution_count": 18,
   "id": "e605827e",
   "metadata": {},
   "outputs": [
    {
     "data": {
      "text/plain": [
       "4×3 Matrix{Int64}:\n",
       " 1  6  3\n",
       " 1  6  3\n",
       " 1  6  3\n",
       " 1  6  3"
      ]
     },
     "execution_count": 18,
     "metadata": {},
     "output_type": "execute_result"
    }
   ],
   "source": [
    "f = repeat([1 6 3],4,1)"
   ]
  },
  {
   "cell_type": "code",
   "execution_count": 19,
   "id": "9a33ffa8",
   "metadata": {},
   "outputs": [
    {
     "data": {
      "text/plain": [
       "4×3 Matrix{Int64}:\n",
       " 2  8  6\n",
       " 2  8  6\n",
       " 2  8  6\n",
       " 2  8  6"
      ]
     },
     "execution_count": 19,
     "metadata": {},
     "output_type": "execute_result"
    }
   ],
   "source": [
    "e  += f"
   ]
  },
  {
   "cell_type": "code",
   "execution_count": 20,
   "id": "3a7d9a4e",
   "metadata": {},
   "outputs": [
    {
     "data": {
      "text/plain": [
       "8×3 Matrix{Int64}:\n",
       " 2  8  6\n",
       " 2  8  6\n",
       " 2  8  6\n",
       " 2  8  6\n",
       " 1  6  3\n",
       " 1  6  3\n",
       " 1  6  3\n",
       " 1  6  3"
      ]
     },
     "execution_count": 20,
     "metadata": {},
     "output_type": "execute_result"
    }
   ],
   "source": [
    "e = [e;f]"
   ]
  },
  {
   "cell_type": "code",
   "execution_count": 42,
   "id": "116e8e84",
   "metadata": {},
   "outputs": [
    {
     "name": "stdout",
     "output_type": "stream",
     "text": [
      "Next = Matrix{Float64}(undef, 0, 4)\n"
     ]
    },
    {
     "data": {
      "text/plain": [
       "1×4 Matrix{Float64}:\n",
       " 1.0  2.0  3.0  4.0"
      ]
     },
     "execution_count": 42,
     "metadata": {},
     "output_type": "execute_result"
    }
   ],
   "source": [
    "Next = rand(1, 4);Next = Next[1:end .!=1,:];       \n",
    "@show Next\n",
    "Next = [Next; [1 2 3 4]] \n"
   ]
  },
  {
   "cell_type": "code",
   "execution_count": 31,
   "id": "6297fb55",
   "metadata": {},
   "outputs": [
    {
     "data": {
      "text/plain": [
       "12×2 Matrix{Float64}:\n",
       " -0.363539   0.759633\n",
       " -0.844981  -0.48812\n",
       " -0.92862   -0.704607\n",
       "  0.991515  -0.75962\n",
       " -0.328323  -0.554107\n",
       " -0.562261   0.938377\n",
       " -0.943198   0.933149\n",
       "  0.658168   0.227261\n",
       "  0.632102  -0.040109\n",
       "  0.909279  -0.859719\n",
       "  0.832918  -0.693321\n",
       "  0.885365  -0.560923"
      ]
     },
     "execution_count": 31,
     "metadata": {},
     "output_type": "execute_result"
    }
   ],
   "source": [
    "movements = rand(Uniform(-1, 1), eggnum[5], Nvar)"
   ]
  },
  {
   "cell_type": "code",
   "execution_count": 10,
   "id": "7aaeee9f",
   "metadata": {},
   "outputs": [
    {
     "data": {
      "text/plain": [
       "10×4 Matrix{Float64}:\n",
       "  1.13985   1.94417  4.30264   5.71009\n",
       "  3.46099   4.39083  4.302     4.95964\n",
       "  2.83649   3.84464  3.79909   8.95864\n",
       "  2.83185   7.5981   7.12371   5.19309\n",
       " -3.2003    3.21839  5.35573   3.09999\n",
       "  2.69028   3.17611  3.49069   1.99615\n",
       " -0.180602  5.41779  7.29365   5.37901\n",
       "  0.21584   9.36097  5.0526    2.66333\n",
       " -4.55512   6.86408  6.094     0.871325\n",
       "  4.45718   9.47543  3.09673  -0.338428"
      ]
     },
     "execution_count": 10,
     "metadata": {},
     "output_type": "execute_result"
    }
   ],
   "source": [
    "t = rand(Uniform(0, 1), 10, 4)      #Genesis\n",
    "t *= Diagonal([(5+5);(10-0);(8-2);(10+1)])\n",
    "t += repeat([-5 0 2 -1], 10,1)"
   ]
  },
  {
   "cell_type": "code",
   "execution_count": 34,
   "id": "abc357d4",
   "metadata": {},
   "outputs": [
    {
     "name": "stdout",
     "output_type": "stream",
     "text": [
      "[0.7102284115013883 0.0 0.0 0.0; 0.0 0.7102284115013883 0.0 0.0; 0.0 0.0 0.426137046900833 0.0; 0.0 0.0 0.0 0.7812512526515271]"
     ]
    }
   ],
   "source": [
    "print(Diagonal([(5+5);(10-0);(8-2);(10+1)])./(2*1.05^40))"
   ]
  },
  {
   "cell_type": "code",
   "execution_count": 22,
   "id": "b91c7a51",
   "metadata": {},
   "outputs": [
    {
     "data": {
      "text/plain": [
       "4.321942375150668"
      ]
     },
     "execution_count": 22,
     "metadata": {},
     "output_type": "execute_result"
    }
   ],
   "source": [
    "1.05^30"
   ]
  },
  {
   "cell_type": "code",
   "execution_count": 64,
   "id": "bdcdd05d",
   "metadata": {},
   "outputs": [
    {
     "name": "stdout",
     "output_type": "stream",
     "text": [
      "2×4 Matrix{Int64}:\n",
      " 1  2  3  4\n",
      " 2  3  4  5\n"
     ]
    },
    {
     "data": {
      "text/plain": [
       "0"
      ]
     },
     "execution_count": 64,
     "metadata": {},
     "output_type": "execute_result"
    }
   ],
   "source": [
    "A = [1 2 3 4; 2 3 4 5]\n",
    "show(stdout, \"text/plain\", A)\n",
    "print('\\n')\n",
    "B = 0"
   ]
  },
  {
   "cell_type": "code",
   "execution_count": null,
   "id": "85e42b6b",
   "metadata": {},
   "outputs": [],
   "source": []
  }
 ],
 "metadata": {
  "kernelspec": {
   "display_name": "Julia 1.6.2",
   "language": "julia",
   "name": "julia-1.6"
  },
  "language_info": {
   "file_extension": ".jl",
   "mimetype": "application/julia",
   "name": "julia",
   "version": "1.6.2"
  }
 },
 "nbformat": 4,
 "nbformat_minor": 5
}
