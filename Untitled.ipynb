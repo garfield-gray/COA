{
 "cells": [
  {
   "cell_type": "code",
   "execution_count": null,
   "id": "6dbf4740",
   "metadata": {},
   "outputs": [],
   "source": []
  },
  {
   "cell_type": "code",
   "execution_count": null,
   "id": "f070961d",
   "metadata": {},
   "outputs": [],
   "source": []
  },
  {
   "cell_type": "code",
   "execution_count": null,
   "id": "2c4ada76",
   "metadata": {},
   "outputs": [],
   "source": [
    "#first of all make one dimentional without constrain\n",
    "#then make n dimentional (define bitewise fu)\n",
    "#then add constrains\n"
   ]
  },
  {
   "cell_type": "code",
   "execution_count": null,
   "id": "ddd1ec7a",
   "metadata": {},
   "outputs": [],
   "source": [
    "#in the name of God\n",
    "#Denining COA parameters\n",
    "Nvar = 1\n",
    "Npop = 5\n"
   ]
  }
 ],
 "metadata": {
  "kernelspec": {
   "display_name": "Julia 1.6.2",
   "language": "julia",
   "name": "julia-1.6"
  },
  "language_info": {
   "file_extension": ".jl",
   "mimetype": "application/julia",
   "name": "julia",
   "version": "1.6.2"
  }
 },
 "nbformat": 4,
 "nbformat_minor": 5
}
